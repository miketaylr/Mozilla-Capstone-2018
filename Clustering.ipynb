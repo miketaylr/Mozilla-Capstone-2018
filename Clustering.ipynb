{
 "cells": [
  {
   "cell_type": "markdown",
   "metadata": {},
   "source": [
    "# Basic K-Means Clustering\n",
    "\n",
    "##### Note: must run [pip install whoosh], [pip install transformations]"
   ]
  },
  {
   "cell_type": "code",
   "execution_count": 35,
   "metadata": {},
   "outputs": [],
   "source": [
    "from whoosh import index, writing, scoring\n",
    "from whoosh.fields import Schema, TEXT, KEYWORD, ID, STORED\n",
    "from whoosh.analysis import *\n",
    "from whoosh.qparser import QueryParser\n",
    "import os.path\n",
    "from pathlib import Path\n",
    "import tempfile\n",
    "import subprocess\n",
    "import csv\n",
    "import codecs\n",
    "import pandas as pd\n",
    "import re\n",
    "import os.path\n",
    "from nltk.tokenize import RegexpTokenizer\n",
    "import numpy as np\n",
    "from sklearn import preprocessing\n",
    "import transformations as trafo\n",
    "import matplotlib.pyplot as plt\n",
    "from collections import Counter"
   ]
  },
  {
   "cell_type": "code",
   "execution_count": 2,
   "metadata": {},
   "outputs": [],
   "source": [
    "# SETTINGS\n",
    "# Paths\n",
    "DIRECTORY = \"\"\n",
    "OUTPUT = os.path.join(DIRECTORY, \"output.csv\")\n",
    "\n",
    "# Debugging - print entire array\n",
    "np.set_printoptions(threshold=np.nan)"
   ]
  },
  {
   "cell_type": "markdown",
   "metadata": {},
   "source": [
    "## Step 1:\n",
    "### Lower case, remove punctuation, stemming, remove stop words"
   ]
  },
  {
   "cell_type": "code",
   "execution_count": 3,
   "metadata": {},
   "outputs": [],
   "source": [
    "def createIndex(schema):\n",
    "    # Generate a temporary directory for the index\n",
    "    indexDir = tempfile.mkdtemp()\n",
    "\n",
    "    # create and return the index\n",
    "    return index.create_in(indexDir, schema)\n",
    "\n",
    "\n",
    "def addFilesToIndex(indexObj, csvPath):\n",
    "    # open writer\n",
    "    writer = indexObj.writer()\n",
    "\n",
    "    # open csv\n",
    "    with codecs.open(csvPath, \"r\", \"ISO-8859-1\") as csvfile:\n",
    "        # create csv reader object\n",
    "        csvreader = csv.DictReader(csvfile)\n",
    "        # create dictionary to hold document values\n",
    "        doc = {}\n",
    "        # instantiate index count\n",
    "        i = 0\n",
    "        \n",
    "        # read each row in file\n",
    "        for row in csvreader:\n",
    "            value = row[\"Negative Feedback\"]\n",
    "            if value != \"\" and isinstance(value, str):\n",
    "                doc[i] = value\n",
    "                writer.update_document(index = str(i), cell_content = value)\n",
    "            i += 1\n",
    "        writer.commit()"
   ]
  },
  {
   "cell_type": "code",
   "execution_count": 4,
   "metadata": {},
   "outputs": [],
   "source": [
    "# create text analyzer\n",
    "cleaningFilter = RegexTokenizer() | LowercaseFilter() | IntraWordFilter() | StopFilter() | StemFilter()\n",
    "\n",
    "# define a Schema with the new analyzer\n",
    "schema = Schema(index = ID(stored=True),\n",
    "                   cell_content = TEXT(analyzer = cleaningFilter, stored = True))\n",
    "\n",
    "# create the index based on the new schema\n",
    "index2 = createIndex(schema)\n",
    "\n",
    "# index cell contents in refined.csv to index2\n",
    "# TODO: put index2 into dataframe\n",
    "addFilesToIndex(index2, OUTPUT)\n",
    "\n",
    "# define a reader object on the index\n",
    "myReader = index2.reader()"
   ]
  },
  {
   "cell_type": "markdown",
   "metadata": {},
   "source": [
    "#### Inspect Index"
   ]
  },
  {
   "cell_type": "code",
   "execution_count": 102,
   "metadata": {},
   "outputs": [
    {
     "name": "stdout",
     "output_type": "stream",
     "text": [
      "Index is empty? False\n",
      "Number of indexed files: 1110\n",
      "47.0\n"
     ]
    }
   ],
   "source": [
    "# Is it empty?\n",
    "print(\"Index is empty?\", index2.is_empty())\n",
    "\n",
    "# How many cells indexed?\n",
    "print(\"Number of indexed files:\", index2.doc_count())\n",
    "\n",
    "# First 25 documents\n",
    "#[(docnum, doc_dict) for (docnum, doc_dict) in myReader.iter_docs()][0:25]\n",
    "\n",
    "# list indexed terms for field \"cell_content\"\n",
    "all_words = [term for term in myReader.field_terms(\"cell_content\")]\n",
    "\n",
    "# Term frequency for a given term\n",
    "print(myReader.frequency(\"cell_content\", \"android\"))\n",
    "\n",
    "# 1000 most distinctive terms according by TF-IDF score\n",
    "mostDistinctiveWords = [term.decode(\"ISO-8859-1\") for (score, term) in myReader.most_distinctive_terms(\"cell_content\", 1000)]\n",
    "# mostDistinctiveWords\n",
    "\n",
    "# 1000 most frequent words\n",
    "mostFrequentWords = [term.decode(\"ISO-8859-1\") for (frequency, term) in myReader.most_frequent_terms(\"cell_content\", 1000)]\n",
    "# mostFrequentWords"
   ]
  },
  {
   "cell_type": "code",
   "execution_count": 82,
   "metadata": {},
   "outputs": [],
   "source": [
    "# Create a binary encoding of dataset based on the selected features (X)\n",
    "# go through each document --> tokenize that single document --> compare with total word list\n",
    "# TODO: change to frequency encoding\n",
    "tokenizer = RegexpTokenizer(r'\\w+')\n",
    "df_rows = []\n",
    "\n",
    "word_list = mostFrequentWords\n",
    "\n",
    "with codecs.open(OUTPUT, \"r\", \"ISO-8859-1\") as csvfile:\n",
    "    csvreader = csv.DictReader(csvfile)\n",
    "    for i, row in enumerate(csvreader):\n",
    "        value = row[\"Negative Feedback\"]\n",
    "        if value != \"\" and isinstance(value, str):\n",
    "            file_words = tokenizer.tokenize(value)\n",
    "            df_rows.append([1 if word in file_words else 0 for word in word_list]) \n",
    "    X = pd.DataFrame(df_rows, columns = word_list)"
   ]
  },
  {
   "cell_type": "code",
   "execution_count": 83,
   "metadata": {},
   "outputs": [],
   "source": [
    "# convert to numpy array\n",
    "data = np.array(df_rows)\n",
    "\n",
    "X_normalized = preprocessing.normalize(data, norm='l2')"
   ]
  },
  {
   "cell_type": "markdown",
   "metadata": {},
   "source": [
    "## Step 2\n",
    "\n",
    "### K-means Clustering (Scikit-learn)\n",
    "##### Note: must run pip install scikit-learn, pip install scipy"
   ]
  },
  {
   "cell_type": "code",
   "execution_count": 84,
   "metadata": {},
   "outputs": [
    {
     "name": "stdout",
     "output_type": "stream",
     "text": [
      "[10  2 10 13  3 18 16  1 19  0 12 10 10 10  3 17  5 12 10 17  2  3 17 11\n",
      "  3  2 10  6  3 10 10  9 13  8  8  3 12  2 11  3  2 13  3 13  5  8 10 13\n",
      " 10 18  3  2  1  3  5 17 15 19  5  2  3  3 10 13 10  3  2 10 10  5 15 10\n",
      " 12 10  1  6  0  1 12  6  3  9 18  3 18 18  5  5  8  2  0  1  1 19  1 12\n",
      " 16 17 17  3 10  5 13 11  2  3  9  6  2  2 17 12 15 10 11  6 16 15  5 10\n",
      "  3 16  1 15 11 17 10 10  1  2  3 12 13  9 18 13  3  9 11  3  3 12  3 10\n",
      "  2  1 12  8 12  2 14  3 12  3 12  5  9  3 14  2  1 10 10  1  3  2 19 10\n",
      "  6 10  2 10  8  8 19  3  3  3 19  8 10 13 11 11  3 10  1  5  3 16  2  3\n",
      "  6 16 10  3  3  5 10 12  3  3 10 10  8  3 17  3  1  6 11 17 17  3 10  2\n",
      " 13 15  3 11 10  5  2 19  2  2  5 16  1  5  0 10  1 16 16  2  3  3 11 16\n",
      "  5  1  1 13 12 16 15 16 16 14 10 13  2 18 10 18  2 11 11 12 10 11  9  9\n",
      "  5  3  3 19  3 10  2  0  6 15 10  3  8 17  1 17  3  1 15 19 17 10 17  2\n",
      " 16  5  2  2  2  6 10 13 10  2 17  3 19  3 12 11  3 17  2 18  1 10  3 18\n",
      " 14  5 13  2  3  3 16 10 10  3 10 10  3  8  1  3 14  2  2 16  1  1 12  0\n",
      "  1  1 12  2  5 16 11  2  5  8 17 14 14 14 14 14 14 14 14 14 14 15 15  1\n",
      " 14  1 18 12 17 10  8 10 10  2  2 13 10  2 10 16  8  3  3 13  3 16 15 11\n",
      "  3 13  2  2  8  6  3 10 10  3 14  6  3  2  2 11  6  5  3  0  3  2  0 10\n",
      " 16 12  0 16 13 19  1 11 15  5 13  8 11  6  6  5 10  8 12 10  3  2 17  0\n",
      " 16  6  5  1 11 16  3  6  2 10 19  3  1 11  2 12 13 13  3 11  5  8 17 14\n",
      "  8 11  5 13 16  1  1  5  6 13  9 10  6  3  3  6 15  2  1  2  3  6  3 12\n",
      " 15  0  1 13 15  6  8 10  8  8  3 10  8  3 19 13 10  6  2 16 10 10 10 17\n",
      "  2 12  9 11  2  2  1  2 15  2  3  8 17  3  3 13 10  1  8 19 13 10  6  1\n",
      " 12  5  3  2  5  2 10 11  3  6  9 13  2  3 10 10 18  8  4 15  6  4  4  4\n",
      "  4  3  4  4  4  4 17 18  3  1 13  1  9 16 11  2 17  3  6 17  6 11  2  3\n",
      " 12 10 19 10  2 10  9  8 11 10  8  2 19 11 13  9 11  2  9 12 12 12 10 12\n",
      "  3 10  8 16  2 12  0  5  3 11  8  8  2 19  8 10 12 17  2  3 12  5  9 10\n",
      "  2  2  3  9 13 12 12 12 13  2  2 11 16  2  3  9  9  2 10 13 12 12 12  2\n",
      "  5  5  8  5  9 15  1  1  6 11  6  8 13  3 16  3  3 15 16 12  1  2  0  2\n",
      " 17  3 12  6 11 13 15  2 10 12 15  3  5 11  9  3  3 18 17  8 17 10 10 18\n",
      "  3 10  5  9 11  1  3 14  3  1 10  3 10  6  1  8 12 17 11 13 10  3  5  2\n",
      " 12 16 17 14 15  9  2 10  9  1  3 14 16 16  2 17 10  3  3 10  5  2 11  6\n",
      " 10 10  2  2 11 12  3 13 10 10 12  6 13  6  1  9 10  8 16  8 11 18  5  3\n",
      " 10  2  2  0  3 10 10 10  1 17  5  6 12  2 13  3  3  5  2 10 14  6  2  8\n",
      " 19  2  2  3 12 10 14  3  5  6 10 13  2 10 19  3 18  1 11 10 15  8 10  9\n",
      " 11 15 19 17  2 19  5 15 17 13 13  1  8 13  8 12  2 15  2  3 18 17 10  3\n",
      "  2 17 10  3 18 12  1 10 15  6 12  2 10  3 16  3 10  3  0  2  0  3 13  3\n",
      "  6  0 16 10 16 15  2 18 12 15  3 10 10 16 11  0 16  2 17 15  6  1 14 17\n",
      "  5  1 15  6  5  1 16  8  2 10 17  3 17  5 15  2 18  1  3 11 10 10  1 18\n",
      " 11 15 10 10 17  2  2  2 19  3 12 15  2  5 11 13 11  3  3 10  0  2 14  6\n",
      "  5  5 13  2 17  3  2 13  0  3 12  3 10 16 10 18  5  8 10  3  1 15  3  1\n",
      " 18 13 13 12 17 12 19 15  2  3  2  6  1  0  3 10 11 11 18  6 10 10  9  2\n",
      " 15  8 10 10 13 14 13  5 16  3 13 10  6  3 19 13 17  9 14 12 13  5 18  8\n",
      " 17 10  2 17 10  3  9  1  3  9  7  7  7  7  7  7  7  7  7  7 10  8 10 12\n",
      "  8 10 12  6 10 15 11 15 10 10 15  3 10  6  9  8  8 10  8  5  3 14  3 11\n",
      " 12 11 15 19  5 11  9 10  3  3 12 12 10 15 16 16  8 12  3  6 13 12  2  8\n",
      "  8  9 10  5  5  2  1 17  3  3  9 10  2 10  1  6 11 11 13  9 11 13 16  2\n",
      " 12  8  5 10 18  3]\n"
     ]
    }
   ],
   "source": [
    "from sklearn.feature_extraction.text import TfidfVectorizer\n",
    "from sklearn.cluster import KMeans\n",
    "from sklearn.metrics import adjusted_rand_score\n",
    "from scipy.cluster import hierarchy\n",
    "\n",
    "num_clusters = 20\n",
    "\n",
    "# Number of clusters\n",
    "kmeans = KMeans(n_clusters=num_clusters)\n",
    "# Fitting the input data\n",
    "kmeans = kmeans.fit(X_normalized)\n",
    "# Getting the cluster labels\n",
    "labels = kmeans.predict(X_normalized)\n",
    "# Centroid values\n",
    "centroids = kmeans.cluster_centers_\n",
    "labels = kmeans.labels_\n",
    "\n",
    "# print(centroids)\n",
    "print(labels)"
   ]
  },
  {
   "cell_type": "code",
   "execution_count": 101,
   "metadata": {},
   "outputs": [
    {
     "data": {
      "text/plain": [
       "[<matplotlib.lines.Line2D at 0x10e0bc828>]"
      ]
     },
     "execution_count": 101,
     "metadata": {},
     "output_type": "execute_result"
    },
    {
     "data": {
      "image/png": "[encoded data removed]",
      "text/plain": [
       "<Figure size 432x288 with 1 Axes>"
      ]
     },
     "metadata": {},
     "output_type": "display_data"
    }
   ],
   "source": [
    "# Find best k for clusters (elbow method)\n",
    "inertia = []\n",
    "\n",
    "for i in range(100):\n",
    "    # Number of clusters\n",
    "    kmeans = KMeans(n_clusters=i+1)\n",
    "    # Fitting the input data\n",
    "    kmeans = kmeans.fit(X_normalized)\n",
    "    # Calculate inertia (within-cluster sum-of-squares)\n",
    "    inertia.append(kmeans.inertia_)\n",
    "\n",
    "plt.plot(inertia)"
   ]
  },
  {
   "cell_type": "code",
   "execution_count": 85,
   "metadata": {},
   "outputs": [
    {
     "data": {
      "text/plain": [
       "<BarContainer object of 20 artists>"
      ]
     },
     "execution_count": 85,
     "metadata": {},
     "output_type": "execute_result"
    },
    {
     "data": {
      "image/png": "[encoded data removed]",
      "text/plain": [
       "<Figure size 432x288 with 1 Axes>"
      ]
     },
     "metadata": {},
     "output_type": "display_data"
    }
   ],
   "source": [
    "unique, counts = np.unique(kmeans.labels_, return_counts=True)\n",
    "clusterCount = dict(zip(unique, counts))\n",
    "plt.bar(clusterCount.keys(), clusterCount.values(), color='g')"
   ]
  },
  {
   "cell_type": "code",
   "execution_count": 93,
   "metadata": {},
   "outputs": [
    {
     "name": "stdout",
     "output_type": "stream",
     "text": [
      "Cluster 0\n",
      "Indices of top 5 documents: [ 24 188 263 402 457]\n",
      "[[24\n",
      "  {'cell_content': 'The constant harassment for feedback is a pain. Happy holidays', 'index': '50'}]\n",
      " [188\n",
      "  {'cell_content': 'hai boschetarule , lasa cenzura penala si lasa internetul liber sa mearga ,analfabetule LUATEAR DRACU BELITULE ,PROSTANAC CENZURATOR PENAL', 'index': '360'}]\n",
      " [263\n",
      "  {'cell_content': 'Pages are slow to load compared to chrome ', 'index': '491'}]\n",
      " [402\n",
      "  {'cell_content': 'Freezes, slows down the phone and tablet.', 'index': '766'}]\n",
      " [457\n",
      "  {'cell_content': \"CSS3 transitions rendering is bad (display doesn't refresh properly)\", 'index': '875'}]]\n",
      "Cluster 1\n",
      "Indices of top 5 documents: [1109  236 1088  261  275]\n",
      "[[1109\n",
      "  {'cell_content': 'The layout is not very intuitive.', 'index': '2225'}]\n",
      " [236 {'cell_content': 'Bookmarks disappear each day.', 'index': '442'}]\n",
      " [1088\n",
      "  {'cell_content': 'Always crashes at android devices with low memory', 'index': '2156'}]\n",
      " [261\n",
      "  {'cell_content': 'Updated flashplayer and getting script errors', 'index': '489'}]\n",
      " [275 {'cell_content': 'Slowness when browsing the net', 'index': '508'}]]\n",
      "Cluster 2\n",
      "Indices of top 5 documents: [ 664  188  945 1109  912]\n",
      "[[664\n",
      "  {'cell_content': 'Permanentemente quiere instalar una \"Actualizacion\" que NO se si corresponde que se llama ff_adr0.0.2.zip', 'index': '1291'}]\n",
      " [188\n",
      "  {'cell_content': 'hai boschetarule , lasa cenzura penala si lasa internetul liber sa mearga ,analfabetule LUATEAR DRACU BELITULE ,PROSTANAC CENZURATOR PENAL', 'index': '360'}]\n",
      " [945\n",
      "  {'cell_content': 'curva securista ,prostituat pe 2 bani ,vine dna sa te ia la interebari pentru cenzura penala pe internet stalinist analfabet ,jegos platit din sudoarea poporului roman pentru acte de cenzura penala pe internet ,boschetar jegos ,paduchios comunist stahovist platit din sudoarea acestui popor cu salarii neobrazate ,analfabet securist', 'index': '1884'}]\n",
      " [1109\n",
      "  {'cell_content': 'The layout is not very intuitive.', 'index': '2225'}]\n",
      " [912\n",
      "  {'cell_content': 'I mangler at oversÃ¦tte det meste af jeres support sider! ', 'index': '1812'}]]\n",
      "Cluster 3\n",
      "Indices of top 5 documents: [859  92 903 618 633]\n",
      "[[859 {'cell_content': 'Allow Firefox Themes on iOS', 'index': '1693'}]\n",
      " [92\n",
      "  {'cell_content': 'Many websites do not open. An example is given below.', 'index': '184'}]\n",
      " [903\n",
      "  {'cell_content': ' Unwitting pressure on links annoys me and sometimes pictures appear blurred specially in Facebook and thanks for you', 'index': '1795'}]\n",
      " [618\n",
      "  {'cell_content': 'Video will not play on ESPN. Adblocker disabled!', 'index': '1201'}]\n",
      " [633\n",
      "  {'cell_content': 'Keeps crashing and restarting on Android. Switched to Chrome. ', 'index': '1228'}]]\n",
      "Cluster 4\n",
      "Indices of top 5 documents: [1109  179  177  661  178]\n",
      "[[1109\n",
      "  {'cell_content': 'The layout is not very intuitive.', 'index': '2225'}]\n",
      " [179\n",
      "  {'cell_content': \"It seems that firefox is auto filling username to form-input field that is preceding the password field. In some circumstances there will be forms with password fields that DOESN'T have username fields and the saved username will than be filled in into an irrelevant preceding field. This isn't useful.\", 'index': '343'}]\n",
      " [177\n",
      "  {'cell_content': ' n xHj   Cc,F  c cx  xxxxxxxxxx x xxxgggzvv z cc Xxx cc x  thhb c vccc, hhhuhjuucc  icukc. UHh ,z j  chgc   h. XX zjuc bbcccfcccfx c    c v v     z f', 'index': '341'}]\n",
      " [661\n",
      "  {'cell_content': 'Bookmarks toolbar was only visible as side toolbar. Nothing worked to change that so I am forced to use another browser now.', 'index': '1284'}]\n",
      " [178\n",
      "  {'cell_content': \"I'm not so much sad, as I am frustrated.  I like Ant Downloader, which used to work well with Firefox.  Any more, each Firefox update messes me up totally.\", 'index': '342'}]]\n",
      "Cluster 5\n",
      "Indices of top 5 documents: [ 188  664 1109  930   21]\n",
      "[[188\n",
      "  {'cell_content': 'hai boschetarule , lasa cenzura penala si lasa internetul liber sa mearga ,analfabetule LUATEAR DRACU BELITULE ,PROSTANAC CENZURATOR PENAL', 'index': '360'}]\n",
      " [664\n",
      "  {'cell_content': 'Permanentemente quiere instalar una \"Actualizacion\" que NO se si corresponde que se llama ff_adr0.0.2.zip', 'index': '1291'}]\n",
      " [1109\n",
      "  {'cell_content': 'The layout is not very intuitive.', 'index': '2225'}]\n",
      " [930\n",
      "  {'cell_content': 'Opened tabs are regularly lost.', 'index': '1849'}]\n",
      " [21\n",
      "  {'cell_content': 'Problem starting Netflix movie playback.', 'index': '45'}]]\n",
      "Cluster 6\n",
      "Indices of top 5 documents: [1109  835  575  387   21]\n",
      "[[1109\n",
      "  {'cell_content': 'The layout is not very intuitive.', 'index': '2225'}]\n",
      " [835\n",
      "  {'cell_content': 'Some of the pictures cover the text.', 'index': '1649'}]\n",
      " [575 {'cell_content': \"Doesn't clear history always\", 'index': '1093'}]\n",
      " [387\n",
      "  {'cell_content': \"can't clear old tabs on restart. \", 'index': '727'}]\n",
      " [21\n",
      "  {'cell_content': 'Problem starting Netflix movie playback.', 'index': '45'}]]\n",
      "Cluster 7\n",
      "Indices of top 5 documents: [1109  759  344  342  341]\n",
      "[[1109\n",
      "  {'cell_content': 'The layout is not very intuitive.', 'index': '2225'}]\n",
      " [759\n",
      "  {'cell_content': 'Redering is slow compared to chrome.big Wikipedia sites are almost unusable', 'index': '1483'}]\n",
      " [344\n",
      "  {'cell_content': 'Have you sold out? why does the \"online map finder\" ALWAYS open when I open firefox? ', 'index': '646'}]\n",
      " [342\n",
      "  {'cell_content': 'Drops too often and in between browsy times. Slow aldo ', 'index': '644'}]\n",
      " [341\n",
      "  {'cell_content': 'Please note: I apologize to report that I found the \"Problem Loading\" response of the tab nearby and hope interpreting.services@dol.gov, swang@utk.edu, webmaster@dol.gov, chinamission_un@mfa.gov.cn, david.steitz@nasa.gov, info@g4c-ev.org, daadny@daad.org, washington@ilo.org, scyang@lbl.gov and malu@un.org know the truth along with the original evidence, thanks!--yanggreenery@gmail.com/+66 0968751911', 'index': '641'}]]\n",
      "Cluster 8\n",
      "Indices of top 5 documents: [941 188 443 664 156]\n",
      "[[941\n",
      "  {'cell_content': \"Those smiley face choices are annoying and intrusive. I'm switching back to chrome. \", 'index': '1874'}]\n",
      " [188\n",
      "  {'cell_content': 'hai boschetarule , lasa cenzura penala si lasa internetul liber sa mearga ,analfabetule LUATEAR DRACU BELITULE ,PROSTANAC CENZURATOR PENAL', 'index': '360'}]\n",
      " [443\n",
      "  {'cell_content': 'crash n lag..slowdown pc..memory hungry', 'index': '851'}]\n",
      " [664\n",
      "  {'cell_content': 'Permanentemente quiere instalar una \"Actualizacion\" que NO se si corresponde que se llama ff_adr0.0.2.zip', 'index': '1291'}]\n",
      " [156 {'cell_content': 'Its very slow and buggy..', 'index': '304'}]]\n",
      "Cluster 9\n",
      "Indices of top 5 documents: [ 507  961 1079  783  234]\n",
      "[[507\n",
      "  {'cell_content': \"Firefox doesn't feature enough viable websites when the search engine is used.\", 'index': '967'}]\n",
      " [961\n",
      "  {'cell_content': \"This is new problem. It started this week.  Everytime I'm trying to upload Youtube video and it is near finishing, Firefox crashes. \", 'index': '1917'}]\n",
      " [1079\n",
      "  {'cell_content': 'In terms of functionality, FireFox is excellent and above all. However, the performance and stability really need to be improved.', 'index': '2134'}]\n",
      " [783\n",
      "  {'cell_content': \"I can't seem to find a way to forward a website from the tool bar.   (except by copy and paste)   \", 'index': '1527'}]\n",
      " [234\n",
      "  {'cell_content': 'Please note: I apologize to report that I found the \"Problem Loading\" tab and hope info@g4c-ev.org, daadny@daad.org, icat@unodc.org, scyang@lbl.gov, webamster@doj.gov, chinamission_un@mfa.gov.cn, malu@un.org and kevin.town@unodc.org know the truth along with the original evidence, thanks!--yanggreenery@gmail.com/+66 0968751911', 'index': '440'}]]\n",
      "Cluster 10\n",
      "Indices of top 5 documents: [664 188 275 177 139]\n",
      "[[664\n",
      "  {'cell_content': 'Permanentemente quiere instalar una \"Actualizacion\" que NO se si corresponde que se llama ff_adr0.0.2.zip', 'index': '1291'}]\n",
      " [188\n",
      "  {'cell_content': 'hai boschetarule , lasa cenzura penala si lasa internetul liber sa mearga ,analfabetule LUATEAR DRACU BELITULE ,PROSTANAC CENZURATOR PENAL', 'index': '360'}]\n",
      " [275 {'cell_content': 'Slowness when browsing the net', 'index': '508'}]\n",
      " [177\n",
      "  {'cell_content': ' n xHj   Cc,F  c cx  xxxxxxxxxx x xxxgggzvv z cc Xxx cc x  thhb c vccc, hhhuhjuucc  icukc. UHh ,z j  chgc   h. XX zjuc bbcccfcccfx c    c v v     z f', 'index': '341'}]\n",
      " [139\n",
      "  {'cell_content': 'cenzura ,cenzura voastra penala analfabetule ,pune mina si citeste ce plingeri formuleaza romanii securist analfabet lasa internetul liber la romani sa mearga democratic stalinist barbar , groparii democratiei ,analfabeti platiti la greu din banii romanilor', 'index': '268'}]]\n",
      "Cluster 11\n",
      "Indices of top 5 documents: [821   6 570 886 884]\n",
      "[[821\n",
      "  {'cell_content': 'Nothing, everything just makes me sad', 'index': '1613'}]\n",
      " [6\n",
      "  {'cell_content': \"https://www.bloomberg.com/ can't run videos \", 'index': '18'}]\n",
      " [570\n",
      "  {'cell_content': 'Firefox developer edition crashes every time my mac goes to sleep.', 'index': '1086'}]\n",
      " [886\n",
      "  {'cell_content': 'I love it but it crashes constantly', 'index': '1764'}]\n",
      " [884\n",
      "  {'cell_content': \"I can't remember my password .I know my password 512 903 9972\", 'index': '1755'}]]\n",
      "Cluster 12\n",
      "Indices of top 5 documents: [1109  626  855  997  177]\n",
      "[[1109\n",
      "  {'cell_content': 'The layout is not very intuitive.', 'index': '2225'}]\n",
      " [626 {'cell_content': 'Slow, poor security, ', 'index': '1217'}]\n",
      " [855 {'cell_content': 'bullshit question bullshit....', 'index': '1687'}]\n",
      " [997\n",
      "  {'cell_content': \"Doesn't function properly using Facebook\", 'index': '1988'}]\n",
      " [177\n",
      "  {'cell_content': ' n xHj   Cc,F  c cx  xxxxxxxxxx x xxxgggzvv z cc Xxx cc x  thhb c vccc, hhhuhjuucc  icukc. UHh ,z j  chgc   h. XX zjuc bbcccfcccfx c    c v v     z f', 'index': '341'}]]\n",
      "Cluster 13\n",
      "Indices of top 5 documents: [443   6 188 664  50]\n",
      "[[443\n",
      "  {'cell_content': 'crash n lag..slowdown pc..memory hungry', 'index': '851'}]\n",
      " [6\n",
      "  {'cell_content': \"https://www.bloomberg.com/ can't run videos \", 'index': '18'}]\n",
      " [188\n",
      "  {'cell_content': 'hai boschetarule , lasa cenzura penala si lasa internetul liber sa mearga ,analfabetule LUATEAR DRACU BELITULE ,PROSTANAC CENZURATOR PENAL', 'index': '360'}]\n",
      " [664\n",
      "  {'cell_content': 'Permanentemente quiere instalar una \"Actualizacion\" que NO se si corresponde que se llama ff_adr0.0.2.zip', 'index': '1291'}]\n",
      " [50\n",
      "  {'cell_content': \"Permanent ad that I can't remove!!\", 'index': '105'}]]\n",
      "Cluster 14\n",
      "Indices of top 5 documents: [1109  762  748   24  261]\n",
      "[[1109\n",
      "  {'cell_content': 'The layout is not very intuitive.', 'index': '2225'}]\n",
      " [762\n",
      "  {'cell_content': 'This is a scam not caught by Firefox nor Bitdefender!   http://sysblocked97.com/Qpb4MYHS6G/index.php?s1=5269&s2=Firefox&vcid=5b5bcc2d-1cfa-43f6-ba77-b9c05b6119cf&dfn=(888)%20599-25518&dn=%2B18885992551&a=ADSU   ', 'index': '1490'}]\n",
      " [748\n",
      "  {'cell_content': \"Firefox can't find the server at input.mozilla.org.\", 'index': '1465'}]\n",
      " [24\n",
      "  {'cell_content': 'The constant harassment for feedback is a pain. Happy holidays', 'index': '50'}]\n",
      " [261\n",
      "  {'cell_content': 'Updated flashplayer and getting script errors', 'index': '489'}]]\n",
      "Cluster 15\n",
      "Indices of top 5 documents: [1109  977  188  184  177]\n",
      "[[1109\n",
      "  {'cell_content': 'The layout is not very intuitive.', 'index': '2225'}]\n",
      " [977\n",
      "  {'cell_content': 'Slow to load pages and scrolling not smooth', 'index': '1953'}]\n",
      " [188\n",
      "  {'cell_content': 'hai boschetarule , lasa cenzura penala si lasa internetul liber sa mearga ,analfabetule LUATEAR DRACU BELITULE ,PROSTANAC CENZURATOR PENAL', 'index': '360'}]\n",
      " [184\n",
      "  {'cell_content': 'Scrolling with mouse wheel crashes Firfox ', 'index': '352'}]\n",
      " [177\n",
      "  {'cell_content': ' n xHj   Cc,F  c cx  xxxxxxxxxx x xxxgggzvv z cc Xxx cc x  thhb c vccc, hhhuhjuucc  icukc. UHh ,z j  chgc   h. XX zjuc bbcccfcccfx c    c v v     z f', 'index': '341'}]]\n",
      "Cluster 16\n",
      "Indices of top 5 documents: [265 664 443 402 188]\n",
      "[[265\n",
      "  {'cell_content': 'Please make a dark theme for Windows 10.', 'index': '494'}]\n",
      " [664\n",
      "  {'cell_content': 'Permanentemente quiere instalar una \"Actualizacion\" que NO se si corresponde que se llama ff_adr0.0.2.zip', 'index': '1291'}]\n",
      " [443\n",
      "  {'cell_content': 'crash n lag..slowdown pc..memory hungry', 'index': '851'}]\n",
      " [402\n",
      "  {'cell_content': 'Freezes, slows down the phone and tablet.', 'index': '766'}]\n",
      " [188\n",
      "  {'cell_content': 'hai boschetarule , lasa cenzura penala si lasa internetul liber sa mearga ,analfabetule LUATEAR DRACU BELITULE ,PROSTANAC CENZURATOR PENAL', 'index': '360'}]]\n",
      "Cluster 17\n",
      "Indices of top 5 documents: [ 188 1109  139  184  575]\n",
      "[[188\n",
      "  {'cell_content': 'hai boschetarule , lasa cenzura penala si lasa internetul liber sa mearga ,analfabetule LUATEAR DRACU BELITULE ,PROSTANAC CENZURATOR PENAL', 'index': '360'}]\n",
      " [1109\n",
      "  {'cell_content': 'The layout is not very intuitive.', 'index': '2225'}]\n",
      " [139\n",
      "  {'cell_content': 'cenzura ,cenzura voastra penala analfabetule ,pune mina si citeste ce plingeri formuleaza romanii securist analfabet lasa internetul liber la romani sa mearga democratic stalinist barbar , groparii democratiei ,analfabeti platiti la greu din banii romanilor', 'index': '268'}]\n",
      " [184\n",
      "  {'cell_content': 'Scrolling with mouse wheel crashes Firfox ', 'index': '352'}]\n",
      " [575 {'cell_content': \"Doesn't clear history always\", 'index': '1093'}]]\n",
      "Cluster 18\n",
      "Indices of top 5 documents: [1109  402  878  877 1043]\n"
     ]
    },
    {
     "name": "stdout",
     "output_type": "stream",
     "text": [
      "[[1109\n",
      "  {'cell_content': 'The layout is not very intuitive.', 'index': '2225'}]\n",
      " [402\n",
      "  {'cell_content': 'Freezes, slows down the phone and tablet.', 'index': '766'}]\n",
      " [878\n",
      "  {'cell_content': 'google search not working properly :( ', 'index': '1735'}]\n",
      " [877\n",
      "  {'cell_content': 'When navigating multiple websites using multiple tabs Firefox takes up far too much memory RAM. Keith.buckner@it911now.com 619-377-8911.', 'index': '1728'}]\n",
      " [1043\n",
      "  {'cell_content': 'Firefox for Android has a setting to set your homepage (Settings / General / Home / Set a Homepage).  Nice bit of useless UI, that. It does NOTHING.', 'index': '2075'}]]\n",
      "Cluster 19\n",
      "Indices of top 5 documents: [1109  912  184  941  188]\n",
      "[[1109\n",
      "  {'cell_content': 'The layout is not very intuitive.', 'index': '2225'}]\n",
      " [912\n",
      "  {'cell_content': 'I mangler at oversÃ¦tte det meste af jeres support sider! ', 'index': '1812'}]\n",
      " [184\n",
      "  {'cell_content': 'Scrolling with mouse wheel crashes Firfox ', 'index': '352'}]\n",
      " [941\n",
      "  {'cell_content': \"Those smiley face choices are annoying and intrusive. I'm switching back to chrome. \", 'index': '1874'}]\n",
      " [188\n",
      "  {'cell_content': 'hai boschetarule , lasa cenzura penala si lasa internetul liber sa mearga ,analfabetule LUATEAR DRACU BELITULE ,PROSTANAC CENZURATOR PENAL', 'index': '360'}]]\n"
     ]
    }
   ],
   "source": [
    "# See top 5 vectors closest to cluster centroid j\n",
    "\n",
    "for j in range(num_clusters):\n",
    "    d = kmeans.transform(X_normalized)[:, j]\n",
    "    ind = np.argsort(d)[::-1][:5]\n",
    "    print(\"Cluster\", j)\n",
    "    print(\"Indices of top 5 documents:\", ind)\n",
    "    print(np.array([doc_dict for doc_dict in myReader.iter_docs()])[ind]) \n",
    "\n",
    "\n",
    "# j = 2\n",
    "\n",
    "# # the distance to the j'th centroid for each point in an array X \n",
    "# d = kmeans.transform(X_normalized)[:, j]\n",
    "# ind = np.argsort(d)[::-1][:5]\n",
    "# print(\"Cluster\", j)\n",
    "# print(\"Indices of top 5 documents:\", ind)\n",
    "# print(np.array([doc_dict for doc_dict in myReader.iter_docs()])[ind])\n",
    "# X_normalized[ind]"
   ]
  },
  {
   "cell_type": "code",
   "execution_count": null,
   "metadata": {},
   "outputs": [],
   "source": [
    "# Spectral Clustering\n",
    "\n",
    "# from sklearn.cluster import SpectralClustering\n",
    "# from sklearn.metrics.pairwise import pairwise_distances"
   ]
  },
  {
   "cell_type": "code",
   "execution_count": null,
   "metadata": {},
   "outputs": [],
   "source": [
    "# similarity_matrix = 1 - pairwise_distances(df_rows, metric='cosine')\n",
    "# cosineScores = pd.DataFrame(similarity_matrix)\n",
    "# clusters = SpectralClustering(n_clusters = 5, affinity = 'precomputed').fit(cosineScores)"
   ]
  },
  {
   "cell_type": "markdown",
   "metadata": {},
   "source": [
    "## Step 3 Cluster Visualization"
   ]
  },
  {
   "cell_type": "code",
   "execution_count": null,
   "metadata": {},
   "outputs": [],
   "source": [
    "# %matplotlib inline\n",
    "\n",
    "# import seaborn as sns; sns.set()\n",
    "# import pprint"
   ]
  },
  {
   "cell_type": "code",
   "execution_count": null,
   "metadata": {},
   "outputs": [],
   "source": [
    "# def fit_and_plot(algorithm,title):\n",
    "#     col = ['bo','ro','co', 'mo','ko']\n",
    "#     algorithm.fit(X)\n",
    "#     n_clusters = algorithm.n_clusters\n",
    "#     lab = algorithm.labels_\n",
    "#     reds = lab == 0\n",
    "#     blues = lab == 1\n",
    "#     for jj in range(n_clusters):\n",
    "#         plt.plot(X[lab == jj, 0], X[lab == jj, 1], col[jj])\n",
    "#     plt.xlabel(\"$x_1$\")\n",
    "#     plt.ylabel(\"$x_2$\")\n",
    "#     plt.title(title)\n",
    "#     plt.axes().set_aspect('equal')   "
   ]
  },
  {
   "cell_type": "code",
   "execution_count": null,
   "metadata": {},
   "outputs": [],
   "source": [
    "# pp = pprint.PrettyPrinter(indent=4)\n",
    "# pp.pprint(clusters.get_params())\n",
    "# fit_and_plot(clusters,\"Spectral clustering on two circles\")"
   ]
  },
  {
   "cell_type": "code",
   "execution_count": null,
   "metadata": {},
   "outputs": [],
   "source": [
    "# y_kmeans = kmeans.predict(X)\n",
    "# plt.scatter(X[:, 0], X[:, 1], c=y_kmeans, s=50, cmap='viridis')\n",
    "\n",
    "# centers = kmeans.cluster_centers_\n",
    "# plt.scatter(centers[:, 0], centers[:, 1], c='black', s=200, alpha=0.5)"
   ]
  },
  {
   "cell_type": "markdown",
   "metadata": {},
   "source": [
    "## Step 4 Label Clusters with Key Words\n",
    "\n",
    "### TF-IDF Frequency Normalization"
   ]
  },
  {
   "cell_type": "code",
   "execution_count": null,
   "metadata": {},
   "outputs": [],
   "source": [
    "# pull out documents of each cluster --> tf idf for key words\n",
    "\n",
    "test_cluster = 12\n",
    "\n",
    "# indices for cluster 0\n",
    "indices = [index for index, clusterNum in enumerate(labels) if clusterNum == test_cluster]\n",
    "\n",
    "# documents in cluster 0\n",
    "clusterCorpus = [doc_dict['cell_content'] for (docnum, doc_dict) in myReader.iter_docs() if docnum in indices]\n",
    "print(clusterCorpus)"
   ]
  },
  {
   "cell_type": "code",
   "execution_count": null,
   "metadata": {},
   "outputs": [],
   "source": [
    "vectorizer = TfidfVectorizer(stop_words='english')\n",
    "# X_tf = vectorizer.fit_transform(clusterCorpus)\n",
    "\n",
    "response = vectorizer.transform(clusterCorpus)\n",
    "feature_names = vectorizer.get_feature_names()"
   ]
  },
  {
   "cell_type": "code",
   "execution_count": null,
   "metadata": {},
   "outputs": [],
   "source": [
    "feature_array = np.array(vectorizer.get_feature_names())\n",
    "tfidf_sorting = np.argsort(response.toarray()).flatten()[::-1]\n",
    "\n",
    "# TODO\n",
    "\n",
    "n = 10\n",
    "top_n = feature_array[tfidf_sorting][:n]\n",
    "\n",
    "feature_array[tfidf_sorting]\n",
    "\n",
    "# print(top_n)"
   ]
  }
 ],
 "metadata": {
  "kernelspec": {
   "display_name": "Python 3",
   "language": "python",
   "name": "python3"
  },
  "language_info": {
   "codemirror_mode": {
    "name": "ipython",
    "version": 3
   },
   "file_extension": ".py",
   "mimetype": "text/x-python",
   "name": "python",
   "nbconvert_exporter": "python",
   "pygments_lexer": "ipython3",
   "version": "3.6.5"
  }
 },
 "nbformat": 4,
 "nbformat_minor": 2
}
