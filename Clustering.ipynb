{
 "cells": [
  {
   "cell_type": "markdown",
   "metadata": {},
   "source": [
    "# Basic K-Means Clustering\n",
    "\n",
    "##### Note: must run [pip install whoosh]"
   ]
  },
  {
   "cell_type": "code",
   "execution_count": 2,
   "metadata": {},
   "outputs": [],
   "source": [
    "from whoosh import index, writing\n",
    "from whoosh.fields import Schema, TEXT, KEYWORD, ID, STORED\n",
    "from whoosh.analysis import *\n",
    "from whoosh.qparser import QueryParser\n",
    "import os.path\n",
    "from pathlib import Path\n",
    "import tempfile\n",
    "import subprocess\n",
    "import csv\n",
    "import codecs\n",
    "import pandas as pd\n",
    "import re\n",
    "import os.path\n",
    "from nltk.tokenize import RegexpTokenizer"
   ]
  },
  {
   "cell_type": "code",
   "execution_count": 3,
   "metadata": {},
   "outputs": [],
   "source": [
    "DIRECTORY = \"\"\n",
    "OUTPUT = os.path.join(DIRECTORY, \"output.csv\")"
   ]
  },
  {
   "cell_type": "code",
   "execution_count": 4,
   "metadata": {},
   "outputs": [
    {
     "data": {
      "text/plain": [
       "'output.csv'"
      ]
     },
     "execution_count": 4,
     "metadata": {},
     "output_type": "execute_result"
    }
   ],
   "source": [
    "OUTPUT"
   ]
  },
  {
   "cell_type": "markdown",
   "metadata": {},
   "source": [
    "## Step 1:\n",
    "### Lower case, remove punctuation, stemming, remove stop words"
   ]
  },
  {
   "cell_type": "code",
   "execution_count": 11,
   "metadata": {},
   "outputs": [],
   "source": [
    "def createIndex(schema):\n",
    "    # Generate a temporary directory for the index\n",
    "    indexDir = tempfile.mkdtemp()\n",
    "\n",
    "    # create and return the index\n",
    "    return index.create_in(indexDir, schema)\n",
    "\n",
    "\n",
    "def addFilesToIndex(indexObj, csvPath):\n",
    "    # open writer\n",
    "    writer = indexObj.writer()\n",
    "    #writer.add_field(index, format)\n",
    "    #writer.add_field(cell_content, format)\n",
    "\n",
    "    # open csv\n",
    "    with codecs.open(csvPath, \"r\", \"ISO-8859-1\") as csvfile:\n",
    "        # create csv reader object\n",
    "        csvreader = csv.DictReader(csvfile)\n",
    "        # create dictionary to hold document values\n",
    "        doc = {}\n",
    "        # instantiate index count\n",
    "        i = 0\n",
    "        \n",
    "        # read each row in file\n",
    "        for row in csvreader:\n",
    "            value = row[\"Negative Feedback\"]\n",
    "            if value != \"\" and isinstance(value, str):\n",
    "                doc[i] = value\n",
    "                writer.update_document(index = str(i), cell_content = value)\n",
    "            i += 1\n",
    "        writer.commit()"
   ]
  },
  {
   "cell_type": "code",
   "execution_count": 12,
   "metadata": {},
   "outputs": [],
   "source": [
    "# create text analyzer\n",
    "cleaningFilter = RegexTokenizer() | LowercaseFilter() | IntraWordFilter() | StopFilter() | StemFilter()\n",
    "\n",
    "# define a Schema with the new analyzer\n",
    "schema = Schema(index = ID(stored=True),\n",
    "                   cell_content = TEXT(analyzer = cleaningFilter, stored = True))\n",
    "\n",
    "# create the index based on the new schema\n",
    "index2 = createIndex(schema)\n",
    "\n",
    "# index cell contents in refined.csv to index2\n",
    "# TODO: put index2 into dataframe\n",
    "addFilesToIndex(index2, OUTPUT)"
   ]
  },
  {
   "cell_type": "markdown",
   "metadata": {},
   "source": [
    "#### Inspect Index"
   ]
  },
  {
   "cell_type": "code",
   "execution_count": 13,
   "metadata": {},
   "outputs": [
    {
     "name": "stdout",
     "output_type": "stream",
     "text": [
      "Index is empty? False\n",
      "Number of indexed files: 1110\n",
      "['00', '000', '0000000', '0000565', '00923002555369', '01', '0100', '021', '024', '030', '04', '0420752', '05', '06', '0684', '07', '0785274576', '08', '09190333683', '09384396727', '0968751911', '0asf', '0borpt', '0c', '0cdovl', '0ddyo', '0egkhpzi', '0fbdkwnza', '0fgwwftyei', '0fk', '0g', '0gcsqgsib', '0j', '0kteimcagcsqgsib', '0ma', '0mamnh', '0obbyefiedbyoibqnrqkca', '0pbaqdagh', '0pnmjrtnplaposxvrwvteosx', '0qhpzy', '0rbciwiiipki', '0syym', '0tglwqkurrpihqx', '0tnc', '0umesj', '0vslmsmywt', '0w', '0wdqyjkozihvcnaqelbqawgakxczajbgnv', '0wl', '0wwyaj', '0xntaxmdyymjm', '0yu', '0zcb', '10', '100', '1000', '10000', '1000000', '1003', '101', '1024', '1028', '103', '1080', '108000', '11', '110000', '110030', '111', '112168', '11629', '117847853825', '12', '121', '122', '1220', '123', '125', '128', '13', '1316297', '132', '1379017597407', '13873061', '14', '144', '1482133970', '15', '150', '16', '162', '16896686465', '17', '17400', '17401', '18', '189', '19', '190', '1920', '1965', '1994', '1aeb', '1c', '1hfl', '1hflid', '1ipcerrawv', '1lzglhdgugum', '1mjmymjm', '1myeafxw', '1mzaw', '1mzuzn', '1n', '1nb', '1odogmyyvahr', '1oxdt', '1pzy', '1qdy', '1qhob', '1qy', '1s', '1sqnnqnkh', '1udeweb', '1udewqfmambaf', '1ue', '1ueaxmqwnnjywxlcibjbnrl', '1uebhmcvvmxezarbgnvbagmcknhbglmb', '1uecbmkq', '1uechmmwnnjywxlcibjbmmu', '1vdw', '1w', '20', '200', '2005', '2008', '2010', '2011', '2012', '2013', '2014', '20141008', '2015', '2016', '2017', '205', '20599', '207', '208', '21', '212', '225', '2266', '226981', '23', '2328014', '24', '249', '25', '250', '253', '25518', '256', '2600', '264', '2693998', '27', '28', '289', '29', '290', '291334', '2abe', '2bkoze', '2bkozecnu', '2c', '2cap', '2cubebco', '2d', '2dhdgv', '2dszsbjbmmxgdawbgnvbammdy', '2fsawzvcm', '2fszxigsw', '2fszxigum', '2fszxiubmv', '2fszxiui', '2g', '2j', '2jf', '2jqa', '2mtexmd', '2mzrafw', '2mzramigpmqswcqydvqqg', '2nhbgvy', '2nhbgvyielu', '2nhbgvyieluyi', '2nhbgvylmnvbtccasiwdqyjkozihvcnaqebbqadggepadccaqocggeb', '2uwyismawga', '2wpgogg', '2xllmnvb', '30', '300', '307', '31', '314', '32', '320', '32822', '33', '33013', '33247', '332480', '33248011', '33248043', '3324806', '334', '335', '335157', '3356', '3360', '336015', '336016', '336546', '3370', '3373', '350', '36', '3603733', '365', '367', '37', '3751233970313', '377', '38', '3840', '386', '395', '397', '3981', '3aa', '3bb', '3d', '3dqeb', '3dqejarytc', '3fqcxfawvld', '3j', '3jrjrrj', '3juawexfjaubgnvbacm', '3lc', '3mdiwmj', '3mnitc', '3o', '3qf', '3qgq', '3roofkmqhbfczlqbxvmtzmpb', '3stwo', '3tw', '3uazk', '3uwc', '3uwuyrygb', '3vw', '3vwcg', '3wn', '3wwdqyjkozihvcnaqelbqawgaexczajbgnvbaytalvt', '3xm', '3ytkrwj', '40', '400', '41', '4109', '42', '422', '4262', '43', '45', '4519074', '4524177', '46', '47', '4712', '4720', '4790', '48', '481', '4887670572791173847', '489222', '49', '4bi', '4c', '4cfuvhfgodzoidww', '4eirtunzgi', '4gsm', '4gyckcprwdv', '4ibaqaxt', '4jxic', '4mmamlxfiaq', '4myh', '4oyaymzmorpajzrzz', '4pyyoitwk', '4r', '4tdq', '4twhu', '4uzo', '4vmkua', '4xdte', '4xftatbgnvbastdfpzi', '4xgdawbgnvbamt', '4xmzaxbgnvbamtklpzi', '4y', '50', '503', '506', '51', '512', '5269', '537', '5370234', '544', '551', '5541', '5587', '565', '5701', '571', '58', '582085', '582162', '59', '5bgm', '5c', '5epb', '5gf', '5jcmwwdqyjkozihvcnaqel', '5jljezmdega', '5josa', '5kc', '5mnn', '5nb', '5nqi', '5pytevmbmga', '5r', '5rue', '5rxlbijq', '5uzxqpmsiwiayjkozihvcnaqkbfhnz', '5uzxqvennjywxlci', '5wazccasiwdqyjkozihvcnaqebbqadggepadccaqocggebaj', '5xhjdxoj', '5ygg', '60', '600', '604', '6186', '619', '620', '628104', '63', '64', '640', '650', '654', '66', '660000', '662040', '667', '67', '673', '68', '6a', '6c', '6d', '6dgd', '6g', '6gcemohzhbjfkfpfklexdevna', '6k', '6kyhghg', '6mylrmuuoiimm', '6qp', '6rqpfho', '6sbyzfgkqotdnqbfvk', '6vqrmc', '6wlvnajteg', '6ylh', '6zy', '700', '7000', '7053649722', '7064512330', '7100', '71092', '71337', '7236', '73', '74', '76', '768', '77', '7702', '78', '782', '7948', '7a', '7c', '7e', '7eff', '7f', '7hnea', '7hyxsuitc', '7jz', '7mg', '7nfpp', '7oag', '7svbx', '7u', '7ywe', '80', '800', '80000100', '80007000', '80010000', '80100000', '802', '803', '8038', '8042', '81', '8145098', '82', '83', '8300', '831', '84', '840304', '85', '86', '868', '877', '888', '89', '8911', '8d', '8daf', '8e', '8hie', '8hmmnsr', '8j', '8k', '8kkso', '8klfyux', '8mdowhqydvr', '8o', '8ofkwayjiodd', '8pftwobuw', '8r', '8skcaweaaam', '8skcaweaaaobntcbmjadbgnvhsuefjaubggrbgefbqcdaqyi', '8u', '8wcwydvr', '8xpr', '8ymepk', '90', '9000', '903', '905', '9050000', '911', '914000', '92', '93', '9318000', '9358000', '9370000', '939722161220', '94', '9468000', '947', '94718477219', '9474000', '9490000', '95', '9561241142479', '957000', '96', '963', '97', '9799332310', '98', '99', '9968751911', '9972', '9b', '9c', '9cc', '9d', '9ead', '9mjmf', '9omcast', '9tzqgpsakih', '9vdcbdqsaoennjywxlci', '9vdcbdqteimcagcsqgsib', '9ybmlhmrewdwydvqqhewhtyw', '9ybmlhmruwewydvqqkewxac', '9ydeb', '9z', '9zztevmbmga', 'a1', 'a15', 'a2', 'a206', 'a26076', 'a3', 'a301539153', 'a4', 'a5', 'a53', 'a5916', 'a7', 'a8410', 'a9', 'aa', 'aaab', 'aaf', 'ab', 'abandon', 'abc', 'abil', 'abl', 'abnorm', 'abomin', 'abound', 'about', 'aboutneterror', 'abov', 'abp', 'abro', 'absolut', 'abus', 'ac', 'accept', 'access', 'accid', 'accompani', 'accord', 'account', 'accout', 'acer', 'acess', 'acestui', 'achitectur', 'acrobat', 'across', 'act', 'action', 'activ', 'actual', 'actualizacion', 'ad', 'adapt', 'adblock', 'add', 'addit', 'addon', 'address', 'adjust', 'admin', 'administr', 'adob', 'adobi', 'adp', 'adr', 'adsu', 'advanc', 'advantag', 'advert', 'advertis', 'advic', 'advis', 'ae', 'aebeiphotoextract', 'af', 'affair', 'affect', 'afford', 'afraid', 'after', 'afternoon', 'afvb', 'ag', 'agahimohammd', 'again', 'against', 'agent', 'agfzlqvd', 'aggiornar', 'aggiornato', 'aggravat', 'aghrrr', 'agid', 'ago', 'agre', 'ahead', 'aid', 'air', 'airbook', 'aj', 'ala', 'alan', 'alanzulberti', 'album', 'aldo', 'alert', 'alexa', 'alguma', 'algun', 'alic', 'aliv', 'all', 'alloc', 'allot', 'allow', 'almost', 'alomg', 'alon', 'along', 'alot', 'alphabet', 'alreadi', 'alredi', 'also', 'alt', 'alter', 'altern', 'althou', 'although', 'altogeth', 'alturl', 'alwai', 'am', 'amarachiisadora', 'amarakur', 'amaz', 'amazon', 'amd', 'american', 'amg', 'amisit', 'amount', 'amplifi', 'ana', 'analfabet', 'analfabeti', 'analfabetul', 'analysi', 'analysiscent', 'analyst', 'analyt', 'analyz', 'anclado', 'andi', 'andr', 'android', 'ang', 'anger', 'ani', 'annoi', 'announc', 'annoyance', 'anoi', 'anoth', 'answer', 'ant', 'antiviru', 'anybodi', 'anymore', 'anyone', 'anyth', 'anywai', 'anywhere', 'anz', 'aol', 'ap', 'aparec', 'apart', 'apartado', 'api', 'apk', 'aplicaã', 'apolog', 'app', 'appar', 'appeal', 'appear', 'appl', 'appli', 'applic', 'appreci', 'appreciat', 'approach', 'appropri', 'approv', 'approx', 'apt', 'arab', 'archer', 'archiv', 'arcobat', 'arduou', 'area', 'aren', 'argon', 'argument', 'arizona', 'arm', 'arnold', 'around', 'arrang', 'arrog', 'arrow', 'articl', 'artist', 'asap', 'ascii', 'asham', 'ask', 'aspect', 'aspir', 'aspx', 'ass', 'assembl', 'asshol', 'assist', 'asskiss', 'associ', 'associat', 'assum', 'asu', 'at', 'atapi', 'ati', 'atingi', 'atleast', 'atom', 'atroc', 'atroci', 'att', 'attach', 'attempt', 'attent', 'attitud', 'attribut', 'au', 'auction', 'audio', 'aufgebaut', 'aumentar', 'aurora', 'aushadhi', 'auth', 'authent', 'author', 'authoriz', 'auto', 'autocrat', 'autom', 'automat', 'autoplai', 'autostart', 'avail', 'averag', 'avet', 'avira', 'avoid', 'aw', 'awai', 'awar', 'awesom', 'awhil', 'awkward', 'awri', 'axon', 'azadebohlool', 'b0000', 'b075', 'b1', 'b18885992551', 'b4000', 'b41498', 'b5', 'b5000', 'b6119', 'b8', 'b9', 'b9000', 'b974', 'ba', 'babi', 'back', 'backdoor', 'background', 'backout', 'backspac', 'backup', 'backward', 'bad', 'badger', 'badli', 'bake', 'balamii', 'balanc', 'ball', 'ballstix', 'bam', 'bani', 'banii', 'bank', 'banner', 'bar', 'barbar', 'barcod', 'bare', 'baroda', 'base', 'basic', 'bastard', 'bata', 'batteri', 'baytalvtmrmweqydvqqiewpdywxpzm', 'bbc', 'bbcccfcccfx', 'bc', 'bcada', 'bcc', 'bd', 'bdcf', 'bdvbdaiavylmicbae', 'be', 'beach', 'beat', 'beauti', 'beb', 'becam', 'becas', 'becaus', 'becom', 'becous', 'been', 'beep', 'befor', 'begg', 'begin', 'beginn', 'begun', 'behav', 'behavior', 'behaviour', 'behest', 'behind', 'beim', 'believ', 'belitul', 'bell', 'belli', 'belong', 'below', 'beneath', 'benefit', 'bengrimm', 'besid', 'best', 'bet', 'beta', 'better', 'between', 'beyond', 'bf', 'bia', 'bibl', 'big', 'bigger', 'biggest', 'bigotri', 'billion', 'billionair', 'bin', 'bing', 'biometr', 'bird', 'bit', 'bitdefend', 'bitten', 'bitter', 'bitxh', 'bizfil', 'bjetana', 'black', 'blackangel', 'blackscreen', 'blah', 'blank', 'blanl', 'blatant', 'blaze', 'blind', 'blink', 'bloat', 'block', 'blocker', 'blockieren', 'blog', 'bloodi', 'bloomberg', 'blue', 'blur', 'blurr', 'board', 'bob', 'bodi', 'bog', 'bogu', 'bolox', 'bombard', 'book', 'bookmark', 'bookmarklet', 'boolshit', 'booster', 'boot', 'boschetar', 'boschetarul', 'both', 'bother', 'bottom', 'bought', 'bounc', 'bout', 'box', 'boycott', 'bp', 'bqadggebag', 'brain', 'branch', 'branco', 'brand', 'brandt', 'break', 'breakpoint', 'brendan', 'briefli', 'bright', 'bring', 'brisnet', 'broke', 'broken', 'broker', 'broser', 'brought', 'brows', 'browser', 'browsi', 'brrows', 'brutal', 'btw', 'bubbl', 'buckner', 'buffer', 'bug', 'bugg', 'bugger', 'buggi', 'bugzilla', 'bui', 'build', 'built', 'bulk', 'bulki', 'bullshit', 'bunch', 'bundl', 'burn', 'busi', 'but', 'button', 'bvzwldsgcqnsah', 'bye', 'byen', 'bypass', 'bã', 'c000', 'c14726', 'c2', 'c39', 'c45', 'c5', 'c66', 'c8', 'c9', 'c9000', 'ca', 'cabl', 'cach', 'cacophoni', 'cada', 'calendar', 'call', 'calomel', 'came', 'camera', 'campo', 'canada', 'cancel', 'cancer', 'cannot', 'cant', 'canâ', 'capac', 'capitan', 'caption', 'captur', 'card', 'care', 'case', 'casein', 'cash', 'catalyst', 'catch', 'categor', 'categori', 'caught', 'caus', 'cb', 'cbc', 'cc', 'ce', 'ceas', 'cent', 'center', 'cenzur', 'cenzura', 'ceo', 'cert', 'certain', 'certif', 'cf', 'cfa', 'cg', 'cgi', 'chain', 'chanc', 'chanel', 'chang', 'chao', 'char', 'charact', 'charg', 'chariti', 'chart', 'chat', 'cheap', 'check', 'checkbox', 'checker', 'cheer', 'chgc', 'chia', 'chinamiss', 'chip', 'chmmwnnjywxlcibjbmmumruwewydvqqlewxac', 'choic', 'choke', 'choos', 'choppi', 'chosen', 'christma', 'chrome', 'chromium', 'chã', 'cia', 'circl', 'circumst', 'cisco', 'citest', 'cixmvyojgtecfumkaaod', 'claim', 'clamxav', 'clariti', 'clarrifi', 'class', 'classic', 'clean', 'cleanup', 'clear', 'clearli', 'clff', 'click', 'clickabl', 'clickdmv', 'clickid', 'client', 'climb', 'cliqz', 'clone', 'close', 'closer', 'clunki', 'clutch', 'clutter', 'cm', 'cmd', 'cmu', 'cn', 'cnet', 'cnn', 'cnu', 'co', 'code', 'codeplex', 'cogno', 'coid', 'cold', 'collaps', 'collect', 'collector', 'colleg', 'colombian', 'color', 'column', 'com', 'combat', 'comcast', 'come', 'comic', 'command', 'comment', 'commercializ', 'commit', 'common', 'commonli', 'commun', 'compact', 'compani', 'compar', 'comparison', 'comparrison', 'compass', 'compat', 'compil', 'complain', 'complaint', 'complet', 'complex', 'complicat', 'compon', 'compos', 'comput', 'comunist', 'con', 'concern', 'conclus', 'condit', 'conect', 'confid', 'config', 'configur', 'confirm', 'confus', 'congrat', 'connect', 'connectionfailur', 'consciou', 'consequ', 'consid', 'consider', 'consist', 'consol', 'constant', 'constantli', 'constitu', 'consult', 'consum', 'contact', 'contagion', 'contain', 'contenido', 'content', 'context', 'continu', 'continua', 'contract', 'contradictori', 'contributor', 'control', 'conveni', 'convert', 'convinc', 'cooki', 'cool', 'copi', 'copybook', 'copyright', 'core', 'corner', 'correct', 'correctli', 'correspond', 'corrupt', 'cost', 'could', 'couldn', 'couldnt', 'council', 'counter', 'counterclockwis', 'countless', 'coupl', 'cours', 'courser', 'cover', 'cpu', 'cpuid', 'cr', 'crap', 'crappi', 'crappili', 'crapwar', 'crash', 'crashdebug', 'crawl', 'crazi', 'crc', 'cre', 'creat', 'cred', 'credit', 'cri', 'crime', 'crimin', 'critic', 'crome', 'crucial', 'crusad', 'css', 'ctl', 'ctrl', 'ctxt', 'cu', 'culprit', 'cunt', 'curfuffl', 'curiou', 'curren', 'currenc', 'current', 'cursor', 'curva', 'custom', 'customerror', 'customiz', 'custserv', 'cut', 'cute', 'cutt', 'cuz', 'cwpcf', 'cwuaa', 'cx', 'cyanogenmod', 'cycle', 'cycoler', 'cymro', 'cáº', 'd0', 'd017', 'd221', 'd23', 'd28', 'd3', 'd34', 'd64797', 'd7', 'd844', 'd84553', 'd96', 'd98', 'da', 'daad', 'daadni', 'dado', 'dai', 'daili', 'dammit', 'dammmit', 'damn', 'damon', 'danger', 'daniel', 'dark', 'darl', 'dashboard', 'data', 'databas', 'date', 'datepick', 'datestmp', 'datum', 'david', 'dc', 'dd', 'ddddggwwwq', 'ddr', 'ddzkcd', 'de', 'dead', 'deal', 'dealt', 'dear', 'death', 'debian', 'debug', 'debugg', 'dec', 'decad', 'decemb', 'decent', 'decid', 'decis', 'declar', 'declin', 'decod', 'decreas', 'decryption', 'dedicat', 'deem', 'deepli', 'default', 'defaultredirect', 'defaut', 'defeat', 'defect', 'defend', 'defens', 'defin', 'definit', 'deform', 'defragg', 'degrad', 'degre', 'del', 'delai', 'delet', 'delhi', 'delit', 'deliver', 'deliveri', 'dell', 'delux', 'democrat', 'democratiei', 'demograph', 'demonstr', 'deni', 'depart', 'departur', 'depend', 'dept', 'der', 'descript', 'desd', 'deselect', 'design', 'desir', 'desktop', 'despit', 'destin', 'destroi', 'det', 'detail', 'detect', 'determin', 'detest', 'dev', 'develop', 'devic', 'devot', 'dfn', 'dhe', 'di', 'diagnos', 'dial', 'dialog', 'diamondback', 'diappoint', 'dictatori', 'dictonari', 'did', 'diddl', 'didn', 'die', 'diebstahl', 'dies', 'dieser', 'difc', 'difer', 'differ', 'difficult', 'dificulti', 'digit', 'digitar', 'digust', 'din', 'dir', 'direct', 'directli', 'directori', 'directv', 'dirt', 'disabl', 'disadvantag', 'disapear', 'disappear', 'disappoint', 'disclosur', 'disconnect', 'discontinu', 'discov', 'disgust', 'disini', 'disk', 'dislik', 'dispit', 'displai', 'displeas', 'dispos', 'disregard', 'disrupt', 'dissatisfact', 'dist', 'distract', 'ditch', 'div', 'divis', 'djoi', 'dk', 'dll', 'dn', 'dna', 'dnt', 'do', 'doc', 'dock', 'document', 'dodig', 'doe', 'doen', 'doesn', 'doesnot', 'doesnt', 'dog', 'doj', 'dol', 'dollar', 'dolphin', 'dolphinbrows', 'dolphinfan', 'domain', 'dometim', 'don', 'donat', 'done', 'dont', 'dori', 'dosent', 'dosnt', 'dot', 'doubl', 'doug', 'down', 'downgrad', 'download', 'downward', 'dozen', 'dpi', 'dr', 'dracu', 'draft', 'drag', 'drain', 'draw', 'drc', 'drive', 'driver', 'drm', 'drop', 'dropbox', 'dropdown', 'dropp', 'drove', 'drung', 'dsqemi', 'dtac', 'du', 'duck', 'duckduckgo', 'dude', 'due', 'dumb', 'dump', 'duo', 'duplic', 'duplicatd', 'dure', 'duti', 'dxbwb', 'dy', 'e3', 'e4', 'e4000', 'e6', 'e60', 'e682', 'e7', 'e73', 'e763', 'ea', 'each', 'eaqueinfobar', 'earli', 'earlier', 'earth', 'easi', 'easier', 'easili', 'east', 'eastern', 'eat', 'eb', 'ebai', 'ebnh', 'ec', 'ecclesiast', 'ecd', 'ed', 'edg', 'edit', 'editor', 'edp', 'edu', 'eej', 'eff', 'effect', 'effici', 'effort', 'eg', 'eh', 'ei', 'eich', 'either', 'eivktckpdobug', 'el', 'elect', 'element', 'elimin', 'ellement', 'ellen', 'els', 'elwood', 'em', 'email', 'emb', 'embarras', 'embarrass', 'embedd', 'emir', 'emlyn', 'emp', 'empti', 'emulat', 'en', 'enabl', 'encod', 'encount', 'encourag', 'encrypt', 'encryption', 'end', 'engend', 'engin', 'english', 'enitr', 'enjoi', 'enough', 'ensur', 'enter', 'enterpris', 'entir', 'entiti', 'entri', 'enviar', 'environ', 'epst', 'equal', 'equit', 'equival', 'er', 'eras', 'errat', 'error', 'es', 'esc', 'escap', 'eset', 'esoter', 'esp', 'especi', 'especifico', 'espn', 'espous', 'essenti', 'est', 'esta', 'establish', 'estando', 'estou', 'etag', 'etc', 'etho', 'eu', 'euch', 'euro', 'europ', 'european', 'ev', 'evalu', 'evaluat', 'even', 'event', 'eventu', 'ever', 'evergreenpuna', 'everi', 'evernot', 'everydai', 'everyon', 'everyth', 'everytim', 'everywher', 'evid', 'evidenc', 'ewjvuzetmbega', 'ex', 'exactli', 'examp', 'exampl', 'exce', 'excel', 'except', 'excess', 'exclud', 'exdm', 'execut', 'exempt', 'exist', 'exit', 'expand', 'expans', 'expect', 'expens', 'experi', 'experienc', 'expert', 'expir', 'explain', 'explicit', 'explod', 'exploit', 'explor', 'expos', 'express', 'extant', 'extenion', 'extens', 'extent', 'extern', 'extra', 'extract', 'extreemli', 'extrem', 'extremli', 'eye', 'f0000', 'f1740', 'f34', 'f37', 'f5728', 'f6', 'f7', 'f88', 'fab', 'face', 'facebook', 'fact', 'fad', 'fail', 'failur', 'fair', 'fairli', 'faithfulli', 'fake', 'fall', 'fals', 'familiar', 'fan', 'fanat', 'fantasi', 'fantast', 'far', 'fargo', 'farmvil', 'fars', 'fart', 'fast', 'faster', 'fastest', 'fastfat', 'fault', 'faulti', 'favicon', 'favor', 'favorit', 'favourit', 'fb', 'fbedc', 'fdc', 'fde', 'fe', 'featur', 'featuresð', 'fed', 'fee', 'feed', 'feedback', 'feel', 'feet', 'fehler', 'femal', 'few', 'ff', 'fi', 'ficam', 'fidel', 'field', 'fierfox', 'fifficulti', 'fight', 'figur', 'file', 'filenam', 'fill', 'film', 'filter', 'final', 'financi', 'find', 'finder', 'fine', 'fingerhut', 'finish', 'fire', 'firebug', 'firefox', 'firefoxinput', 'firefrox', 'firewal', 'firfox', 'first', 'fish', 'fit', 'five', 'fix', 'fkex', 'fkwitss', 'fl', 'flag', 'flagg', 'flash', 'flashplayer', 'flavor', 'flaw', 'flexibl', 'flip', 'float', 'floppi', 'flow', 'flush', 'fnqlogist', 'focu', 'focus', 'foibl', 'folder', 'foldersfold', 'folk', 'follow', 'fondro', 'font', 'fool', 'forc', 'forcibl', 'forefox', 'forehead', 'forev', 'forget', 'forgot', 'forgotten', 'form', 'format', 'formatt', 'former', 'formerli', 'formuleaza', 'forth', 'forum', 'forward', 'found', 'four', 'fox', 'foxfir', 'foxnew', 'fquedi', 'frame', 'frbehom', 'fred', 'freedom', 'freeload', 'freez', 'freight', 'frequenc', 'frequent', 'fresh', 'freze', 'friend', 'friendli', 'friennd', 'friggin', 'frill', 'front', 'froze', 'frozen', 'frremi', 'fruitless', 'frustrat', 'fu', 'fuck', 'fucken', 'fucker', 'fuckin', 'fugg', 'full', 'fulli', 'fullscreen', 'function', 'fundament', 'funni', 'funzionar', 'further', 'furthermor', 'fusion', 'futur', 'fvd', 'fvexvq', 'fwd', 'fx', 'fxq', 'fy', 'fyi', 'fzolkjdtqa', 'g633277633277', 'gadget', 'gagal', 'galaxi', 'galaxynot', 'galor', 'game', 'gap', 'garbag', 'garbl', 'gasca', 'gather', 'gaurav', 'gave', 'gawd', 'gb', 'gc', 'gcemohzhbjfkfpfklexdevna', 'gclid', 'gear', 'gecko', 'geckodriv', 'geek', 'geforc', 'gener', 'generat', 'geniu', 'genr', 'gentleman', 'genuin', 'german', 'gestur', 'get', 'getengin', 'gett', 'gettin', 'ghost', 'ghosteri', 'ghostrei', 'ghz', 'gift', 'gig', 'gigabyt', 'gina', 'give', 'given', 'glad', 'glass', 'glitch', 'glitchi', 'global', 'globalworldtv', 'gmail', 'gmmrhmcvoda', 'gnohj', 'go', 'goadv', 'goc', 'gococom', 'gocom', 'god', 'goddam', 'goddamn', 'goe', 'goggl', 'gone', 'gong', 'gonna', 'good', 'goodbi', 'goodbye', 'goodfellow', 'googel', 'googl', 'got', 'gotten', 'gov', 'govern', 'gpb', 'grad', 'grant', 'graphic', 'great', 'greatest', 'greatli', 'greed', 'green', 'grei', 'greu', 'grief', 'groparii', 'group', 'groupi', 'grow', 'groã', 'grt', 'guardan', 'guess', 'gui', 'guidelin', 'guru', 'gw', 'gã', 'ha', 'habbit', 'habiendo', 'hack', 'hacker', 'had', 'hai', 'haimbaugh', 'hal', 'half', 'halford', 'halfwai', 'halt', 'halten', 'hamburg', 'hand', 'handl', 'hang', 'hao', 'happen', 'happend', 'happi', 'harass', 'hard', 'harder', 'hardwar', 'harsh', 'hasn', 'hassel', 'hat', 'hate', 'haussler', 'have', 'haven', 'hd', 'hdmi', 'he', 'headach', 'header', 'headlin', 'health', 'healthi', 'heap', 'hear', 'heard', 'heartbroken', 'heavi', 'heavili', 'heavvili', 'hei', 'height', 'heinz', 'helfen', 'hell', 'hellbent', 'hello', 'help', 'helprefuge', 'hemraj', 'hemrajmeena', 'henc', 'her', 'here', 'hesit', 'hesitat', 'hesselsã', 'hhhuhjuucc', 'hi', 'hid', 'hidden', 'hide', 'hidef', 'hideous', 'high', 'higher', 'highest', 'highli', 'highlight', 'highspe', 'hijack', 'hike', 'him', 'histori', 'hit', 'hkz', 'hlllt', 'hog', 'hold', 'hole', 'holidai', 'home', 'homepag', 'honestli', 'honneywell', 'honor', 'hope', 'hopefulli', 'hopeless', 'horizont', 'horribl', 'horrribl', 'host', 'hotlin', 'hotmail', 'hotspot', 'hour', 'how', 'howev', 'hp', 'hq', 'hr', 'hsbc', 'hsj', 'hst', 'htc', 'htm', 'html', 'http', 'huawei', 'hub', 'huge', 'human', 'humana', 'huml', 'humong', 'hundr', 'hung', 'hungri', 'hunki', 'huntress', 'hyperlink', 'hypocritical', 'ia', 'iam', 'ibm', 'icat', 'icon', 'icukc', 'id', 'idea', 'ideal', 'ident', 'identifi', 'identifizieren', 'idiot', 'idl', 'idm', 'ie', 'ieg', 'ignor', 'iheart', 'ihr', 'ill', 'ilo', 'im', 'imac', 'imag', 'imagin', 'imglu', 'imgur', 'immedi', 'impact', 'impedi', 'implement', 'import', 'impos', 'imposs', 'impress', 'improperli', 'improv', 'in', 'inabl', 'inaccess', 'inappropri', 'inbox', 'incap', 'incess', 'inch', 'includ', 'incognito', 'incompat', 'incomplet', 'inconsist', 'incorrect', 'incorrectli', 'increas', 'increaseth', 'incred', 'inde', 'indec', 'indefinit', 'independ', 'index', 'indian', 'indic', 'indicat', 'indistinguish', 'individu', 'induc', 'inept', 'infect', 'inferior', 'infinit', 'info', 'inform', 'informam', 'informationen', 'inglã', 'inhab', 'inher', 'initi', 'inizial', 'inject', 'inop', 'inprov', 'input', 'insan', 'insecur', 'insid', 'insinuat', 'insist', 'instal', 'instalar', 'installcor', 'installion', 'instanc', 'instantli', 'instead', 'instruccion', 'instruct', 'insult', 'intef', 'integr', 'intel', 'intellig', 'intend', 'intens', 'intent', 'intention', 'intercept', 'interebari', 'interest', 'interf', 'interfac', 'interfer', 'intermitt', 'intern', 'internet', 'internetul', 'interpret', 'interrupt', 'into', 'intranet', 'intro', 'introduc', 'intrus', 'intuit', 'invad', 'invalid', 'invas', 'invest', 'investig', 'involv', 'io', 'ip', 'ipad', 'iphon', 'iplayer', 'ir', 'irish', 'irql', 'irrat', 'irrelev', 'irrit', 'irritat', 'ismobil', 'isn', 'isp', 'issu', 'issuer', 'ist', 'it', 'item', 'ithi', 'itself', 'itun', 'itv', 'ivi', 'ivori', 'izbraukå', 'j90', 'ja', 'jai', 'jame', 'jar', 'jarr', 'java', 'javascript', 'jdg', 'jego', 'jenner', 'jeopardiz', 'jeopodi', 'jere', 'jerk', 'jerki', 'jerri', 'jetpack', 'jew', 'jim', 'jimdo', 'jitter', 'jiwfd', 'jjx', 'jnmxxhdkxldikfjjhfgjhbchajdcghfhf', 'job', 'joerdenton', 'john', 'join', 'joke', 'jone', 'josa', 'joseph', 'jot', 'joydc', 'jpg', 'jpl', 'js', 'jul', 'juli', 'jump', 'jumpi', 'june', 'junk', 'just', 'justifi', 'kann', 'kapserski', 'kardashin', 'kasperski', 'kathleen', 'kb', 'kbdclass', 'keep', 'keepscfreez', 'kei', 'kein', 'keith', 'kept', 'kevin', 'keyboard', 'keycode', 'keydown', 'keystroke', 'keyup', 'keyword', 'kfgifhh', 'kidd', 'kill', 'kind', 'kinda', 'kindl', 'kindli', 'king', 'kiosk', 'kiss', 'kleiner', 'km', 'kmxz', 'know', 'knowingli', 'knowledg', 'known', 'konfiguriert', 'kosher', 'kown', 'kpi', 'kri', 'krisjgrant', 'ksecdd', 'kvarichm', 'kwd', 'kwid', 'kwybbquhawiwkqydvr', 'kzf', 'l0', 'la', 'label', 'lace', 'lack', 'ladi', 'lag', 'lagg', 'laggi', 'landscap', 'lang', 'langg', 'languag', 'lap', 'laps', 'laptop', 'larg', 'larger', 'largest', 'lasa', 'last', 'lastli', 'lastpass', 'late', 'later', 'latesi', 'latest', 'latter', 'laugh', 'launch', 'layer', 'layout', 'lazili', 'lbl', 'lcvp', 'lead', 'leaf', 'leak', 'lean', 'learn', 'least', 'leav', 'led', 'leeao', 'left', 'leftov', 'legaci', 'legal', 'legg', 'legitim', 'length', 'lengthi', 'lenovo', 'less', 'lesson', 'let', 'letra', 'lett', 'letter', 'level', 'lewi', 'lf', 'lg', 'lhuwghfkkhujuykh', 'li', 'liar', 'liber', 'librari', 'libwebspac', 'licens', 'lid', 'life', 'lifestori', 'light', 'like', 'likei', 'limit', 'line', 'linex', 'link', 'linux', 'list', 'listen', 'liter', 'litter', 'littl', 'live', 'livid', 'll', 'llama', 'llglollhhlllybhhlph', 'lm', 'lmnvbtaefw', 'ln', 'lnbrmawga', 'lo', 'load', 'lobotomiz', 'loc', 'local', 'localiz', 'locat', 'lock', 'log', 'logg', 'logic', 'login', 'logitech', 'logo', 'long', 'longdesc', 'longer', 'look', 'lookup', 'loop', 'loos', 'lose', 'loser', 'loss', 'lost', 'lot', 'loudli', 'love', 'lovlhl', 'low', 'loyal', 'loyalli', 'loyalti', 'lte', 'luatear', 'luawp', 'luck', 'lucki', 'lumia', 'lunch', 'lungcanc', 'lwrbxtj', 'm0', 'm1', 'm2', 'm5', 'm7', 'm8', 'ma', 'mac', 'macboik', 'macbook', 'machin', 'maco', 'mad', 'made', 'maggot', 'magic', 'mail', 'mailbox', 'main', 'maintain', 'mainten', 'major', 'make', 'malici', 'malu', 'malwar', 'malwarebyt', 'man', 'manag', 'mandatori', 'manger', 'mangler', 'mani', 'mannag', 'manual', 'map', 'marc', 'margin', 'mark', 'market', 'marriag', 'mask', 'masont', 'mass', 'massiv', 'masterpiec', 'masterrac', 'match', 'materi', 'matter', 'max', 'maybe', 'mb', 'mbb', 'mbp', 'mcfee', 'me', 'mean', 'meaning', 'meaningless', 'meant', 'meantim', 'meanwhil', 'mearga', 'measur', 'media', 'medicalnewstodai', 'medion', 'meena', 'meet', 'megabyt', 'mein', 'melden', 'mem', 'meme', 'memori', 'mensaj', 'mental', 'mention', 'menu', 'menubar', 'mercola', 'mere', 'merg', 'mess', 'messag', 'messeng', 'mest', 'metaphor', 'method', 'mfa', 'mfcmapi', 'mfisher', 'mfowatelmakga', 'mgr', 'mhz', 'mi', 'michael', 'micosoft', 'microphon', 'microprocessor', 'microshaft', 'microshit', 'microsoft', 'mid', 'middl', 'midomi', 'might', 'migrat', 'miiebdccauygawibagicd', 'miiemzccaxugawibagiif', 'mil', 'million', 'millionair', 'mimic', 'min', 'mina', 'mine', 'minifi', 'minim', 'minimalist', 'minimum', 'minor', 'mint', 'mintu', 'minut', 'miser', 'miseri', 'misfunct', 'misinform', 'miss', 'mission', 'mistak', 'mistaken', 'mistakenli', 'mister', 'mit', 'mixcloud', 'mja', 'mkt', 'mm', 'mnh', 'mo', 'mob', 'mobil', 'mode', 'model', 'modem', 'moder', 'modern', 'modif', 'modifi', 'modnam', 'modul', 'modver', 'molass', 'mom', 'moment', 'momentarili', 'momento', 'mommi', 'monei', 'monetari', 'moneycontrol', 'monitor', 'monro', 'monster', 'month', 'monthli', 'moral', 'more', 'moreâ', 'morn', 'moron', 'most', 'mostli', 'motherfuck', 'motion', 'moto', 'mous', 'mousclass', 'mousetest', 'move', 'movement', 'movi', 'mozila', 'mozilla', 'mozula', 'mpd', 'mr', 'mrkidobb', 'mrmweqydvqqiewpdywxpzm', 'mruwewydvqqlewxac', 'ms', 'msf', 'msft', 'msg', 'msn', 'mt', 'mty', 'much', 'multi', 'multimedia', 'multipl', 'multitask', 'music', 'must', 'mute', 'muthafugg', 'my', 'mycustompage', 'mydox', 'myown', 'mypack', 'myriad', 'myself', 'mytransitguide', 'mywai', 'n92', 'nada', 'nadu', 'nag', 'name', 'namoroka', 'nao', 'napakadol', 'narcoosse', 'nasa', 'nasti', 'nativ', 'navegador', 'navig', 'navigat', 'nba', 'nbd', 'nbguui', 'ndi', 'ndjjdjdj', 'ne', 'near', 'nearbi', 'nearli', 'necessari', 'necessarili', 'neck', 'need', 'neflix', 'neg', 'neither', 'nemerit', 'neobraz', 'ner', 'net', 'netflix', 'netinterrupt', 'netscap', 'netvib', 'network', 'never', 'nevertheless', 'new', 'newbi', 'newer', 'newest', 'newli', 'newpoptab', 'newser', 'newspap', 'newtab', 'next', 'nexu', 'ngm', 'nhæ', 'nice', 'nicht', 'night', 'nightli', 'nightmar', 'nighyli', 'nih', 'nihseniorhealth', 'nite', 'nitegamm', 'nlm', 'no', 'noe', 'nois', 'non', 'none', 'nope', 'nor', 'normal', 'norton', 'noscript', 'note', 'notebook', 'notepad', 'noth', 'notic', 'notif', 'notifi', 'notori', 'nottagoddamnedthinghappen', 'novemb', 'now', 'nowdai', 'nowher', 'npapi', 'npf', 'nsa', 'nsevent', 'ntf', 'ntice', 'ntoskrnl', 'nuditi', 'nueva', 'null', 'number', 'numer', 'nut', 'nvidea', 'nvidia', 'ny', 'nybc', 'nz', 'obes', 'obscen', 'obviou', 'obvious', 'occas', 'occasion', 'occupi', 'occur', 'occurr', 'ocm', 'odd', 'oeopl', 'off', 'offend', 'offer', 'offici', 'offleaseonli', 'offlin', 'often', 'oh', 'ohmuogoodlacksha', 'oiesel', 'ok', 'okai', 'okd', 'olcf', 'old', 'older', 'olqvjawwkqdhogxubszwshdjysrvo', 'om', 'omc', 'omni', 'on', 'onc', 'ond', 'oneplu', 'onetab', 'onli', 'onlin', 'onloadraytheon', 'onq', 'onsð', 'onto', 'open', 'oper', 'opera', 'operat', 'opinion', 'opportun', 'oppos', 'oprimiz', 'opt', 'optim', 'optimiz', 'option', 'optonlin', 'order', 'org', 'organ', 'organis', 'origin', 'originat', 'orlando', 'ornl', 'os', 'osaka', 'oscobo', 'osit', 'osx', 'other', 'otherwis', 'otjer', 'ou', 'our', 'out', 'outdat', 'outlook', 'output', 'outsid', 'outstand', 'over', 'overal', 'overcom', 'overflow', 'overhead', 'overlai', 'overlapp', 'overload', 'overrid', 'oversã', 'overwhelm', 'overwritten', 'own', 'owner', 'ownership', 'pack', 'packag', 'pad', 'paduchio', 'page', 'pagina', 'pai', 'paid', 'pain', 'painfulli', 'pair', 'panel', 'panhandl', 'paper', 'para', 'parad', 'paradigm', 'parallel', 'paramet', 'paranoia', 'parent', 'parport', 'part', 'parti', 'partial', 'particip', 'particular', 'particularli', 'partner', 'parvdm', 'pass', 'password', 'past', 'patch', 'path', 'pathet', 'patient', 'pattern', 'paula', 'paus', 'paycheck', 'payload', 'payment', 'paypal', 'pbminermo', 'pc', 'pci', 'pdf', 'pe', 'peac', 'peer', 'pelo', 'pen', 'penal', 'penala', 'pentru', 'peoblem', 'peopl', 'per', 'perceiv', 'percent', 'percept', 'perfect', 'perfectli', 'perfom', 'perform', 'perhap', 'period', 'perman', 'permanentement', 'permiss', 'permit', 'perpetu', 'person', 'persona', 'personaliz', 'peru', 'pestaã', 'peter', 'pg', 'pgyssooekpqq', 'pharmaci', 'philosophi', 'phone', 'photo', 'photobucket', 'photograph', 'php', 'physical', 'pic', 'pick', 'picker', 'pictur', 'picupload', 'picutr', 'piddl', 'piec', 'pig', 'pile', 'pilot', 'pin', 'pinn', 'pinpoint', 'pinterest', 'pinwheel', 'pirefox', 'pise', 'piss', 'pit', 'piti', 'pixel', 'pixelat', 'pk', 'pki', 'pl', 'pla', 'place', 'plag', 'plai', 'plain', 'plainli', 'plaintext', 'plan', 'planet', 'plasticmemori', 'plate', 'platform', 'platit', 'platiti', 'playback', 'player', 'pleas', 'plenti', 'plethora', 'plingeri', 'plu', 'plug', 'plugin', 'pmwiki', 'png', 'pocket', 'point', 'pointer', 'polici', 'polit', 'poof', 'poor', 'poorli', 'pop', 'popor', 'poporului', 'popp', 'popul', 'popular', 'popund', 'popup', 'porn', 'port', 'portion', 'portrait', 'posit', 'possibl', 'post', 'postag', 'potenti', 'pound', 'power', 'practic', 'practica', 'preced', 'preciou', 'precis', 'predomin', 'prefer', 'preferencia', 'preferr', 'preform', 'preload', 'premium', 'present', 'presid', 'press', 'pressur', 'pretick', 'pretti', 'prevent', 'preview', 'previou', 'previous', 'primari', 'prime', 'primero', 'principl', 'print', 'printer', 'prior', 'privaci', 'privacyoperat', 'privat', 'privatci', 'privatebrows', 'pro', 'probabl', 'probado', 'probblema', 'problem', 'problema', 'problemat', 'probook', 'proce', 'process', 'processor', 'proclaim', 'prodigi', 'produc', 'product', 'profan', 'profil', 'prog', 'program', 'programm', 'programmen', 'prohibit', 'project', 'prompt', 'proof', 'proper', 'properli', 'prostanac', 'prostanaci', 'prostituat', 'protect', 'protectionist', 'protocol', 'provid', 'proxi', 'proxtub', 'prt', 'ps', 'ptb', 'pua', 'public', 'publish', 'pubm', 'pull', 'punch', 'pune', 'pure', 'purpos', 'pursu', 'purveyor', 'push', 'pushi', 'put', 'putt', 'pvmotnz', 'pã', 'qap', 'qbglsyegzcvv', 'qpb', 'qr', 'qsurvei', 'qualiti', 'que', 'quemadrpow', 'queri', 'question', 'queue', 'quick', 'quickli', 'quier', 'quit', 'quitt', 'qwerk', 'qwmbvrnvkb', 'r4', 'ra', 'radar', 'radarradio', 'radeon', 'radio', 'rainbow', 'raindancan', 'raini', 'ram', 'ran', 'randolphaknight', 'random', 'randomli', 'rang', 'rank', 'rapid', 'rapidli', 'rare', 'rate', 'rather', 'rca', 'rch', 'rd', 'rdtxdn', 're', 'reach', 'read', 'readabl', 'reader', 'readi', 'readind', 'real', 'realdownload', 'reali', 'realiti', 'realiz', 'realli', 'reappear', 'rearrang', 'reason', 'reboot', 'recal', 'receipt', 'receiv', 'recent', 'recept', 'recheck', 'recipi', 'recogn', 'recogniz', 'recommend', 'recondit', 'record', 'recov', 'recoveri', 'recreat', 'rectangl', 'recurr', 'red', 'reddit', 'reder', 'redicul', 'redicula', 'redirect', 'redraw', 'refer', 'referr', 'reflect', 'reflow', 'refresh', 'refus', 'reg', 'regain', 'regard', 'regardless', 'regist', 'regular', 'regularli', 'reinstal', 'reinvent', 'reject', 'rel', 'relat', 'relaunch', 'releas', 'reli', 'reliabl', 'religi', 'reload', 'reluct', 'remain', 'remedi', 'rememb', 'remind', 'remot', 'remoteonli', 'remov', 'ren', 'renam', 'render', 'renew', 'reopen', 'repac', 'repair', 'repeat', 'repeatedli', 'replac', 'replai', 'repli', 'replicat', 'report', 'represent', 'repro', 'reproduc', 'request', 'requir', 'resav', 'research', 'reset', 'resett', 'resiz', 'resolut', 'resolv', 'resourc', 'resp', 'respect', 'respectfulli', 'respond', 'respons', 'responsavei', 'responsv', 'rest', 'restart', 'restor', 'result', 'resum', 'resync', 'retail', 'retain', 'retard', 'retina', 'retri', 'retriev', 'return', 'revert', 'review', 'revolv', 'rewrit', 'ribbon', 'rich', 'richtig', 'rickvj', 'rid', 'ridicul', 'right', 'righthand', 'rigor', 'rise', 'risk', 'rival', 'rjhrjrjrj', 'roboform', 'rocket', 'rode', 'rodrigu', 'roku', 'roman', 'romani', 'romanii', 'romanilor', 'ronald', 'root', 'rotat', 'rout', 'router', 'routin', 'row', 'royal', 'royalgame', 'rr', 'rsa', 'rte', 'rtsp', 'ru', 'rubberstamp', 'rubbish', 'ruin', 'rule', 'run', 'runawai', 'rune', 'runn', 'runtim', 'rv', 'rvsiqkg', 's0', 'sa', 'sabotag', 'sacrif', 'sad', 'sadden', 'sadli', 'sadpanda', 'safari', 'safe', 'safemod', 'safesearch', 'sai', 'said', 'sake', 'salarii', 'sale', 'salesforc', 'same', 'samsung', 'samsungsso', 'samwood', 'sandboxi', 'sandjaja', 'sane', 'saniti', 'sare', 'sasd', 'sat', 'satisfi', 'save', 'saver', 'savvi', 'saw', 'saxena', 'saya', 'sc', 'scale', 'scam', 'scan', 'scann', 'scanner', 'schedul', 'scheme', 'school', 'schã¼tzen', 'scott', 'scout', 'scrap', 'scratch', 'scream', 'screan', 'screen', 'screenshot', 'screw', 'script', 'scroll', 'scrollbar', 'scrollig', 'scsiport', 'scumbag', 'scyang', 'sdram', 'se', 'seamonkei', 'search', 'searchterm', 'sec', 'second', 'section', 'secur', 'securist', 'securista', 'securisti', 'see', 'seed', 'seek', 'seem', 'seen', 'seeung', 'segundo', 'seh', 'seiz', 'selalu', 'select', 'selenium', 'self', 'selfi', 'sell', 'send', 'sender', 'sens', 'sensit', 'sent', 'separ', 'separat', 'seper', 'sequenc', 'seri', 'serial', 'seriou', 'serious', 'serv', 'server', 'servic', 'servo', 'session', 'set', 'setiap', 'setpoint', 'sett', 'setup', 'sever', 'sexi', 'sg', 'sha', 'shadi', 'shaimba', 'shame', 'share', 'sharehold', 'shell', 'shield', 'shift', 'shine', 'shipnow', 'shit', 'shite', 'shockwav', 'shocwav', 'shoe', 'shoot', 'shop', 'shopp', 'short', 'shortcut', 'shortli', 'shot', 'should', 'shouldn', 'show', 'shown', 'shut', 'shutdown', 'shutt', 'si', 'sicher', 'sick', 'side', 'sidebar', 'sider', 'sidewai', 'sierra', 'sign', 'signific', 'signl', 'silli', 'silver', 'similar', 'simpl', 'simpli', 'simplifi', 'simultan', 'sinc', 'sincer', 'singapor', 'singl', 'sir', 'siriu', 'sistema', 'sit', 'site', 'sitt', 'situat', 'six', 'size', 'skam', 'skip', 'skype', 'slap', 'slapper', 'sleep', 'slightli', 'sloooooooooooooooooooooow', 'sloooooooooow', 'sloppi', 'slot', 'slow', 'slowdown', 'slower', 'slowli', 'slug', 'sluggish', 'sm', 'small', 'smaller', 'smart', 'smartermail', 'smartphon', 'smilei', 'smithd', 'smooth', 'smoothli', 'snap', 'snapdragon', 'so', 'soc', 'social', 'socket', 'socksuck', 'socr', 'softwar', 'sold', 'soldier', 'solid', 'solomon', 'solut', 'solv', 'some', 'somebodi', 'somehow', 'somekind', 'soment', 'someon', 'someth', 'sometim', 'somewher', 'somreth', 'sonar', 'song', 'soom', 'soon', 'sooner', 'sorri', 'sorrow', 'sort', 'sou', 'sound', 'sourc', 'sourcemap', 'sp', 'space', 'spade', 'spam', 'spare', 'speak', 'spec', 'special', 'specialtysteelinc', 'specif', 'specifi', 'speed', 'speedomet', 'spell', 'spend', 'spent', 'spike', 'spin', 'spinn', 'spintrac', 'sponsor', 'spoof', 'sport', 'spott', 'spped', 'spring', 'sprite', 'spyhunter', 'spyware', 'squad', 'squar', 'ssd', 'ssl', 'ssss', 'st', 'stabil', 'stabl', 'stahovist', 'stai', 'stalinist', 'stalinisti', 'stall', 'stamp', 'stand', 'standard', 'standbi', 'star', 'start', 'startedf', 'startpag', 'startup', 'state', 'statement', 'static', 'station', 'stattrack', 'statu', 'steal', 'stealthili', 'steam', 'steamdb', 'steitz', 'step', 'steve', 'stick', 'stietz', 'still', 'stock', 'stocksmarketsindia', 'stolen', 'stop', 'stopp', 'storag', 'store', 'stori', 'straight', 'strang', 'stream', 'streamlin', 'street', 'streetview', 'stretch', 'strict', 'string', 'strong', 'structur', 'stubbornli', 'stuck', 'stuff', 'stumbl', 'stupid', 'stutter', 'style', 'stylish', 'sub', 'subfold', 'subid', 'subject', 'submiit', 'submit', 'submitt', 'subscrib', 'subsequ', 'substanti', 'succeed', 'success', 'successfulli', 'such', 'suck', 'sudden', 'suddenli', 'suddent', 'suddunli', 'sudoarea', 'suffer', 'suffici', 'suffix', 'suffoc', 'sugar', 'suggest', 'suit', 'suk', 'sultanpur', 'sum', 'sun', 'super', 'superior', 'suppli', 'suppo', 'support', 'suppos', 'supposedli', 'sure', 'surf', 'surfer', 'surfmus', 'surgeri', 'surpass', 'surprisingli', 'surrog', 'survei', 'suspect', 'suspici', 'sv', 'swang', 'swf', 'swillig', 'swing', 'swipe', 'switch', 'sword', 'sxxt', 'sy', 'sycophantic', 'symantec', 'sync', 'synch', 'synchroniz', 'sysblock', 'system', 'sysver', 't2', 'tab', 'tabl', 'tablet', 'tag', 'tagg', 'take', 'taken', 'talk', 'tamaã', 'tamil', 'tampabai', 'tap', 'target', 'task', 'td', 'te', 'teach', 'team', 'teas', 'tech', 'techi', 'technic', 'technician', 'tediou', 'tel', 'tela', 'telecom', 'telgram', 'tell', 'temp', 'temporari', 'tempt', 'ten', 'tendo', 'tengo', 'term', 'terminat', 'terribl', 'test', 'testingguideaaaaa', 'text', 'th', 'tha', 'thalavaipuram', 'than', 'thank', 'thanx', 'thde', 'thed', 'thee', 'thei', 'their', 'them', 'theme', 'then', 'thenewsminut', 'theraven', 'there', 'therefor', 'these', 'thhb', 'thi', 'thing', 'think', 'thinkpad', 'third', 'thirsti', 'thooooooo', 'thoroughli', 'those', 'though', 'thought', 'thouroughli', 'thousand', 'thousandair', 'thrash', 'three', 'thrive', 'throat', 'throttl', 'through', 'thru', 'thu', 'thumb', 'thumbnail', 'thunder', 'thunderbird', 'thx', 'ti', 'tick', 'ticket', 'tight', 'till', 'time', 'timer', 'timewarnerc', 'timr', 'tini', 'tipografã', 'tire', 'titl', 'tke', 'tl', 'tlnbrgg', 'tmb', 'toa', 'tobe', 'tobia', 'toda', 'todai', 'todo', 'togeth', 'toggl', 'toi', 'token', 'told', 'tom', 'ton', 'too', 'took', 'tool', 'toolbar', 'tooo', 'toooooooooooooooooooooooooooooooo', 'top', 'tostr', 'tot', 'total', 'touch', 'tough', 'toward', 'tower', 'town', 'trace', 'track', 'trackapackag', 'tracker', 'trai', 'trailer', 'train', 'transact', 'transfer', 'transit', 'translat', 'transmitt', 'transpar', 'transport', 'trap', 'trash', 'trashwar', 'travando', 'travel', 'tree', 'trend', 'tri', 'triangl', 'trick', 'trimurl', 'trojan', 'troubl', 'troubleshoot', 'troublesom', 'true', 'trueli', 'truli', 'trust', 'truth', 'try', 'tryagain', 'ts', 'tsgsystem', 'tte', 'tube', 'tuition', 'tune', 'tunlzb', 'turn', 'tuticorin', 'tv', 'tvtrope', 'twctv', 'tweaker', 'twice', 'twitter', 'two', 'type', 'typo', 'ua', 'ublock', 'ubuntu', 'uc', 'ugli', 'uhh', 'ui', 'uid', 'uk', 'ultim', 'um', 'umm', 'un', 'una', 'unabl', 'unaccept', 'unauthoriz', 'unblock', 'uncheck', 'unclos', 'und', 'undefin', 'undeni', 'under', 'understand', 'undeserv', 'undo', 'undp', 'unescerri', 'unexpect', 'unexplain', 'unformatt', 'unfortun', 'ungodli', 'unhappi', 'uninstal', 'unit', 'uniti', 'univers', 'unknown', 'unless', 'unlock', 'unmask', 'unmodchar', 'unnecessari', 'unneed', 'unodc', 'unremov', 'unrespons', 'unsaf', 'unsecur', 'unsign', 'unsimplifi', 'unsolicit', 'unstabl', 'unsupport', 'unsur', 'until', 'unus', 'unusu', 'unwant', 'unwil', 'unwitt', 'unzip', 'up', 'updat', 'upgrad', 'upload', 'upon', 'upper', 'upright', 'upset', 'upsett', 'upward', 'ur', 'urgent', 'url', 'urui', 'us', 'usabl', 'usag', 'usando', 'usb', 'useful', 'useless', 'user', 'usernam', 'usual', 'usuali', 'usuario', 'util', 'utilis', 'utiliza', 'utilizamo', 'utk', 'utterli', 'uzw', 'va', 'vack', 'vadivel', 'valid', 'valu', 'valuabl', 'vanilla', 'vanish', 'vapor', 'variant', 'variou', 'vccc', 'vcid', 've', 'vedio', 'vehicl', 'vendor', 'vent', 'ventana', 'ver', 'veracod', 'verbindung', 'veri', 'verifi', 'verizon', 'versagt', 'version', 'versu', 'vertic', 'vertion', 'veteran', 'vez', 'vfidtt', 'vga', 'via', 'viabl', 'victim', 'video', 'videodownloadhelp', 'videoport', 'vido', 'vielen', 'view', 'viewabl', 'vine', 'vintag', 'virgin', 'viri', 'viru', 'virus', 'virustot', 'visibl', 'visit', 'vista', 'vists', 'vite', 'vk', 'vkontakt', 'vm', 'voastra', 'vodafon', 'voic', 'void', 'voila', 'volum', 'von', 'vor', 'vp', 'vpn', 'vrepvtwxndvc', 'vulgat', 'vulner', 'vw', 'vz', 'vå', 'wa', 'wack', 'wai', 'wait', 'wake', 'walk', 'wall', 'wallpap', 'walmart', 'wangi', 'wanna', 'want', 'war', 'warn', 'warship', 'washington', 'wasn', 'wast', 'watch', 'watchlist', 'waterfox', 'wazoo', 'wcktb', 'weak', 'weaken', 'web', 'webamst', 'webkit', 'webmail', 'webmast', 'webpag', 'websit', 'webteam', 'week', 'weekend', 'weekli', 'weird', 'welcom', 'well', 'went', 'were', 'wham', 'what', 'whatev', 'whatsoev', 'wheel', 'whenev', 'where', 'wherev', 'whether', 'which', 'whiel', 'while', 'whilst', 'whistl', 'white', 'whitelist', 'whitish', 'who', 'whole', 'whoop', 'whore', 'whose', 'why', 'wide', 'widevin', 'widget', 'width', 'wien', 'wierd', 'wife', 'wifi', 'wiht', 'wikipedia', 'wild', 'wildvin', 'wile', 'win', 'windo', 'window', 'windowsappsinstal', 'winnum', 'wipe', 'wisdom', 'wise', 'wish', 'witch', 'within', 'without', 'wizard', 'wln', 'wmg', 'wobbl', 'wollmuth', 'won', 'wonder', 'wonderfulli', 'wont', 'worck', 'word', 'work', 'workaround', 'workflow', 'world', 'worldbank', 'wors', 'worst', 'worth', 'worthless', 'worthwhil', 'wot', 'would', 'wound', 'wqcmaawqaydvr', 'wrap', 'wreck', 'write', 'written', 'wrong', 'wrote', 'wt', 'wte', 'wtf', 'wth', 'wuit', 'wunderground', 'www', 'wwx', 'wyaj', 'x0', 'x0000000', 'x00000000', 'x00000000677', 'x00000008', 'x1', 'x100000', 'x3160', 'x64', 'x80000003', 'x88', 'xc', 'xeb', 'xf', 'xhamster', 'xhj', 'xhn', 'xhtml', 'xkkmiufasbbnrjoo', 'xl', 'xlerab', 'xml', 'xp', 'xpr', 'xx', 'xxx', 'xxxgggzvv', 'xxxxxxxxxx', 'ya', 'yahoo', 'yahoogroup', 'yale', 'yandex', 'yangb', 'yanggreeneri', 'yct', 'ye', 'yeah', 'year', 'yellow', 'yesterdai', 'yfc', 'ymail', 'ynogx', 'york', 'yosemit', 'youfkn', 'young', 'your', 'yourhom', 'yourself', 'yourselv', 'youtub', 'ypur', 'yqpw', 'yr', 'ywluifzpzxcxezarbgnvbaomckdvb', 'yx', 'yxkuennjywxlci', 'yxszklw', 'yy', 'yyyi', 'yzkpmm', 'zap', 'zero', 'zip', 'zjuc', 'zklwae', 'zoom', 'zoomtext', 'zsvomwd', 'zte', 'zu', 'zulberti', 'zwrpyxrlifjvb', 'zxdvdseafipoctlglgvish', 'zxjt', 'zyngagame', '²ñ', '³ø', '³øªø', '¹ø', 'ãºltima', 'ðµð', 'ðµðºð', 'ðµñ', 'ð¼ð¾ð', 'ð½ð', 'ð¾', 'ð¾ñ', 'øªø', 'øªøºù', 'øªù']\n"
     ]
    }
   ],
   "source": [
    "# Is it empty?\n",
    "print(\"Index is empty?\", index2.is_empty())\n",
    "\n",
    "# How many cells indexed?\n",
    "print(\"Number of indexed files:\", index2.doc_count())\n",
    "\n",
    "\n",
    "# define a reader object on the index\n",
    "myReader = index2.reader()\n",
    "\n",
    "#[(docnum, doc_dict) for (docnum, doc_dict) in myReader.iter_docs()][0:25]\n",
    "\n",
    "# list indexed terms for field \"cell_content\"\n",
    "word_list = [term for term in myReader.field_terms(\"cell_content\")]\n",
    "print(word_list)"
   ]
  },
  {
   "cell_type": "code",
   "execution_count": 17,
   "metadata": {},
   "outputs": [],
   "source": [
    "# Create a binary encoding of dataset based on the selected features (X)\n",
    "# go through each document --> tokenize that single document --> compare with total word list\n",
    "tokenizer = RegexpTokenizer(r'\\w+')\n",
    "df_rows = []\n",
    "\n",
    "with codecs.open(OUTPUT, \"r\", \"ISO-8859-1\") as csvfile:\n",
    "    csvreader = csv.DictReader(csvfile)\n",
    "    for i, row in enumerate(csvreader):\n",
    "        value = row[\"Negative Feedback\"]\n",
    "        if value != \"\" and isinstance(value, str):\n",
    "            file_words = tokenizer.tokenize(value)\n",
    "            df_rows.append([1 if word in file_words else 0 for word in word_list]) \n",
    "    X = pd.DataFrame(df_rows, columns = word_list)"
   ]
  },
  {
   "cell_type": "markdown",
   "metadata": {},
   "source": [
    "## Step 2\n",
    "\n",
    "### K-means Clustering (Scikit-learn)\n",
    "##### Note: must run pip install scikit-learn, pip install scipy"
   ]
  },
  {
   "cell_type": "code",
   "execution_count": 18,
   "metadata": {},
   "outputs": [],
   "source": [
    "from sklearn.feature_extraction.text import TfidfVectorizer\n",
    "from sklearn.cluster import KMeans\n",
    "from sklearn.metrics import adjusted_rand_score\n",
    "from scipy.cluster import hierarchy\n",
    "\n",
    "# vectorizer = TfidfVectorizer(stop_words='english')\n",
    "# X = vectorizer.fit_transform(myReader.field_terms(\"cell_content\"))\n",
    "\n",
    "# # Number of clusters\n",
    "# kmeans = KMeans(n_clusters=10)\n",
    "# # Fitting the input data\n",
    "# kmeans = kmeans.fit(df_rows)\n",
    "# # Getting the cluster labels\n",
    "# labels = kmeans.predict(df_rows)\n",
    "# # Centroid values\n",
    "# centroids = kmeans.cluster_centers_\n",
    "\n",
    "# print(centroids)"
   ]
  },
  {
   "cell_type": "code",
   "execution_count": 19,
   "metadata": {},
   "outputs": [],
   "source": [
    "from sklearn.cluster import SpectralClustering\n",
    "from sklearn.metrics.pairwise import pairwise_distances"
   ]
  },
  {
   "cell_type": "code",
   "execution_count": 21,
   "metadata": {},
   "outputs": [],
   "source": [
    "=similarity_matrix = 1 - pairwise_distances(df_rows, metric='cosine')\n",
    "cosineScores = pd.DataFrame(similarity_matrix)"
   ]
  },
  {
   "cell_type": "code",
   "execution_count": 18,
   "metadata": {},
   "outputs": [
    {
     "name": "stderr",
     "output_type": "stream",
     "text": [
      "/Users/nicolewongsoo/anaconda3/lib/python3.6/site-packages/sklearn/manifold/spectral_embedding_.py:234: UserWarning: Graph is not fully connected, spectral embedding may not work as expected.\n",
      "  warnings.warn(\"Graph is not fully connected, spectral embedding\"\n"
     ]
    }
   ],
   "source": [
    "clusters = SpectralClustering(n_clusters = 5, affinity = 'precomputed').fit(cosineScores)"
   ]
  },
  {
   "cell_type": "code",
   "execution_count": 19,
   "metadata": {},
   "outputs": [
    {
     "name": "stdout",
     "output_type": "stream",
     "text": [
      "[2 1 2 1 4 4 1 2 2 2 2 2 2 0 1 0 1 0 2 0 0 2 1 1 0 2 1 2 2 2 1 0 1 2 1 0 4\n",
      " 0 2 1 2 2 1 2 2 4 1 2 2 1 2 4 4 0 2 2 1 1 4 1 1 1 1 0 1 4 2 0 1 1 2 1 0 0\n",
      " 1 2 0 0 0 0 0 0 0 1 0 1 2 4 1 2 1 0 1 2 0 1 0 2 1 2 2 1 0 2 0 2 1 2 2 2 1\n",
      " 0 4 1 2 4 0 1 1 1 0 1 1 2 1 1 1 0 2 2 3 1 2 2 2 1 1 2 1 1 2 1 1 4 1 0 2 4\n",
      " 1 2 2 0 2 0 1 0 0 1 1 0 1 2 0 4 2 1 2 4 2 4 1 0 0 0 2 2 0 2 0 0 2 2 1 2 0\n",
      " 2 2 2 2 2 2 1 1 1 0 2 2 2 2 0 1 2 2 3 1 2 1 3 4 2 2 1 0 1 4 4 0 1 1 2 2 2\n",
      " 2 2 4 0 2 1 2 2 1 2 1 0 1 2 2 0 0 1 1 1 1 2 3 0 1 0 1 1 3 3 1 2 2 2 1 3 1\n",
      " 1 2 1 2 1 3 1 2 3 0 0 1 1 2 2 1 2 1 4 2 1 0 2 4 4 0 1 2 2 1 2 0 1 2 0 1 1\n",
      " 2 1 2 1 2 2 1 1 2 1 0 0 1 1 0 0 1 1 4 0 1 2 1 0 4 2 2 1 2 2 2 0 1 2 2 0 0\n",
      " 2 2 0 1 1 1 2 2 2 2 0 2 0 2 2 0 2 2 1 4 2 0 1 2 0 2 1 2 1 2 1 1 1 1 0 1 3\n",
      " 4 0 2 1 2 0 0 0 0 0 0 2 0 0 0 0 1 1 1 0 1 2 1 2 0 1 0 0 1 4 2 1 4 1 1 1 3\n",
      " 1 4 2 1 2 3 2 2 2 1 0 1 1 0 4 2 2]\n"
     ]
    }
   ],
   "source": [
    "print(clusters.labels_)"
   ]
  },
  {
   "cell_type": "markdown",
   "metadata": {},
   "source": [
    "## Step 3 Label Clusters with Key Words\n",
    "\n",
    "### TF-IDF Frequency Normalization"
   ]
  },
  {
   "cell_type": "code",
   "execution_count": 169,
   "metadata": {},
   "outputs": [
    {
     "ename": "SyntaxError",
     "evalue": "invalid syntax (<ipython-input-169-a787f8044349>, line 12)",
     "output_type": "error",
     "traceback": [
      "\u001b[0;36m  File \u001b[0;32m\"<ipython-input-169-a787f8044349>\"\u001b[0;36m, line \u001b[0;32m12\u001b[0m\n\u001b[0;31m    print(clusterCorpus)\u001b[0m\n\u001b[0m        ^\u001b[0m\n\u001b[0;31mSyntaxError\u001b[0m\u001b[0;31m:\u001b[0m invalid syntax\n"
     ]
    }
   ],
   "source": [
    "# pull out documents of each cluster --> tf idf for key words\n",
    "\n",
    "import numpy as np\n",
    "\n",
    "num_clusters = 5\n",
    "\n",
    "# indices for cluster 0\n",
    "indices = [index for index, clusterNum in enumerate(clusters.labels_) if clusterNum == 0]\n",
    "\n",
    "# documents in cluster 0\n",
    "clusterCorpus = [doc_dict['cell_content'] for (docnum, doc_dict) in myReader.iter_docs() if docnum in indices\n",
    "print(clusterCorpus)"
   ]
  },
  {
   "cell_type": "code",
   "execution_count": 164,
   "metadata": {},
   "outputs": [],
   "source": [
    "vectorizer = TfidfVectorizer(stop_words='english')\n",
    "X = vectorizer.fit_transform(clusterCorpus)\n",
    "\n",
    "response = vectorizer.transform(clusterCorpus)\n",
    "feature_names = vectorizer.get_feature_names()"
   ]
  },
  {
   "cell_type": "code",
   "execution_count": 163,
   "metadata": {},
   "outputs": [
    {
     "name": "stdout",
     "output_type": "stream",
     "text": [
      "['shut' 'settings' 'reset' 'ff' 'time' 'exploits' 'escape' 'esoteric'\n",
      " 'eventually' 'everytime']\n"
     ]
    }
   ],
   "source": [
    "feature_array = np.array(vectorizer.get_feature_names())\n",
    "tfidf_sorting = np.argsort(response.toarray()).flatten()[::-1]\n",
    "\n",
    "n = 10\n",
    "top_n = feature_array[tfidf_sorting][:n]\n",
    "\n",
    "print(top_n)"
   ]
  }
 ],
 "metadata": {
  "kernelspec": {
   "display_name": "Python 3",
   "language": "python",
   "name": "python3"
  },
  "language_info": {
   "codemirror_mode": {
    "name": "ipython",
    "version": 3
   },
   "file_extension": ".py",
   "mimetype": "text/x-python",
   "name": "python",
   "nbconvert_exporter": "python",
   "pygments_lexer": "ipython3",
   "version": "3.6.5"
  }
 },
 "nbformat": 4,
 "nbformat_minor": 2
}
