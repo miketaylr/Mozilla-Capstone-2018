{
 "cells": [
  {
   "cell_type": "markdown",
   "metadata": {},
   "source": [
    "Preliminary Data Analysis of Mozilla SurveyGizmo Feedback Data\n",
    "\n",
    "Note: must also install vaderSentiment (pip install vaderSentiment), and assumes that files 'Top Sites for Report Analysis.csv' and '20180912113810-SurveyExport.csv' are located in the same directory as the file"
   ]
  },
  {
   "cell_type": "code",
   "execution_count": 1,
   "metadata": {},
   "outputs": [],
   "source": [
    "import pandas as pd\n",
    "import re"
   ]
  },
  {
   "cell_type": "code",
   "execution_count": 2,
   "metadata": {
    "scrolled": true
   },
   "outputs": [],
   "source": [
    "# for columns A and B in the top 100, get strings in cells, comma, split by comma, \n",
    "#then save and check if data contains these values\n",
    "sites = pd.read_csv('C:/Users/amritpd/Downloads/Top Sites for Report Analysis.csv', usecols=['Domains','Brand'])\n",
    "#, skiprows = 50, nrows = 25\n",
    "#display(sites)\n",
    "siteList = list(sites.values.flatten())\n",
    "issuesFile = open('issues.txt', 'r')\n",
    "issuesList = issuesFile.read().split(',')\n",
    "\n",
    "#remove commas ('salesforce.com, force.com')\n",
    "for site in siteList:\n",
    "    if ',' in site:\n",
    "        siteList += site.split(',')\n",
    "        \n",
    "siteList = [site.strip('.*') for site in list(filter(lambda site: ',' not in site, siteList))]\n",
    "issuesList = [issue.strip('\\n') for issue in issuesList]\n",
    "\n",
    "#print(issuesList)"
   ]
  },
  {
   "cell_type": "code",
   "execution_count": 3,
   "metadata": {
    "scrolled": false
   },
   "outputs": [
    {
     "name": "stdout",
     "output_type": "stream",
     "text": [
      "Not empty!\n"
     ]
    }
   ],
   "source": [
    "fields = ['KI', 'KN', 'KP']\n",
    "#read in raw survey data from CSV files. Only want certain columns\n",
    "survey_cols = [\"Response ID\",\"Time Started\",\"Date Submitted\",\"Status\",\"Language\",\"Referer\",\"Extended Referer\",\"User Agent\",\"Extended User Agent\",\"Longitude\",\"Latitude\",\"Country\",\"City\",\"State/Region\",\"Postal\",\"How does Firefox make you feel?\",\"OS\",\"To help us understand your input, we need more information. Please describe what you like. The content of your feedback will be public, so please be sure not to include personal information such as email address, passwords or phone number.\",\"To help us understand your input, we need more information. Please describe your problem below and be as specific as you can. The content of your feedback will be public, so please be sure not to include personal information such as email address, passwords or phone number.\",\"If your feedback is related to a website, you can include it here:\"]\n",
    "df = pd.read_csv(\"C:/Users/amritpd/Downloads/20180928025007-SurveyExport.csv\", encoding = \"ISO-8859-1\", nrows=2500, usecols=survey_cols)\n",
    "#some data cleaning and selection \n",
    "#rename some long column names\n",
    "df.rename(columns={ survey_cols[15]: 'Binary Sentiment', survey_cols[17]: 'Positive Feedback', survey_cols[18]: 'Negative Feedback', survey_cols[19]: 'Relevant Site'}, inplace=True)\n",
    "df = df.fillna(''); #repalce NaNs with blanks\n",
    "df = df.loc[df['Status'] == 'Complete'] #Only want completed surveys\n",
    "df = df.loc[df['Language'] == 'English'] #Only want english rows\n",
    "#Convert to df friendly date-times\n",
    "df[\"Date Submitted\"] = pd.to_datetime(df[\"Date Submitted\"])\n",
    "df[\"Time Started\"] = pd.to_datetime(df[\"Time Started\"])\n",
    "\n",
    "\n",
    "if df.empty: #need to handle empty case later\n",
    "    print('DataFrame is empty!')\n",
    "else:\n",
    "    print('Not empty!')"
   ]
  },
  {
   "cell_type": "code",
   "execution_count": 4,
   "metadata": {
    "scrolled": true
   },
   "outputs": [
    {
     "name": "stderr",
     "output_type": "stream",
     "text": [
      "C:\\Anaconda\\lib\\site-packages\\nltk\\twitter\\__init__.py:20: UserWarning: The twython library has not been installed. Some functionality from the twitter package will not be available.\n",
      "  warnings.warn(\"The twython library has not been installed. \"\n"
     ]
    }
   ],
   "source": [
    "#Derive certain columns\n",
    "#start with basic sentiment analysis\n",
    "from nltk.sentiment.vader import SentimentIntensityAnalyzer as SIA\n",
    "\n",
    "analyzer = SIA()\n",
    "results = []\n",
    "\n",
    "#just append & analyze the -ve/+ve feedback for now if user gave both\n",
    "#df[['Neg', 'Neu', 'Pos', 'Compound']] = df['Text'].apply(lambda Text: pd.Series(TextBlob(Text).sentiment))\n",
    "for index, row in df.iterrows(): \n",
    "    pol_score = analyzer.polarity_scores(row['Positive Feedback'] + row['Negative Feedback'])\n",
    "    results.append(pol_score)\n",
    "\n",
    "df2 = pd.DataFrame.from_records(results)    \n",
    "# df['Neg'], df['Neu'], df['Pos'], 'Compound']] = results\n",
    "\n",
    "df = pd.merge(df, df2, left_index=True, right_index=True)"
   ]
  },
  {
   "cell_type": "code",
   "execution_count": 5,
   "metadata": {
    "scrolled": true
   },
   "outputs": [],
   "source": [
    "#returns first occurence of an element from the string that is in the list. Obvs needs to be improved\n",
    "def mentionedSite (series):\n",
    "    combined = series['Relevant Site'] + series['Positive Feedback'] + series['Negative Feedback']\n",
    "    sites = [site.lower() for site in siteList if site in combined]\n",
    "    return ', '.join(sites)\n",
    "\n",
    "def mentionedIssue (series):\n",
    "    combined = series['Positive Feedback'] + series['Negative Feedback']\n",
    "    issues = [issue.lower() for issue in issuesList if issue in combined]\n",
    "    return ', '.join(issues)\n",
    "    \n",
    "#See if any of the top sites are mentioned in a list, see if any issues are mentioned \n",
    "df['Sites'] = df.apply(mentionedSite, axis=1 )\n",
    "df['Issues'] = df.apply(mentionedIssue, axis=1)\n",
    "    "
   ]
  },
  {
   "cell_type": "code",
   "execution_count": 8,
   "metadata": {},
   "outputs": [
    {
     "data": {
      "text/plain": [
       "'Most Recent Date: '"
      ]
     },
     "metadata": {},
     "output_type": "display_data"
    },
    {
     "data": {
      "text/plain": [
       "Timestamp('2016-12-20 22:07:08')"
      ]
     },
     "metadata": {},
     "output_type": "display_data"
    },
    {
     "data": {
      "application/vnd.jupyter.widget-view+json": {
       "model_id": "7f73b7c8d0894ea7bff15dad08d9eea3",
       "version_major": 2,
       "version_minor": 0
      },
      "text/html": [
       "<p>Failed to display Jupyter Widget of type <code>interactive</code>.</p>\n",
       "<p>\n",
       "  If you're reading this message in the Jupyter Notebook or JupyterLab Notebook, it may mean\n",
       "  that the widgets JavaScript is still loading. If this message persists, it\n",
       "  likely means that the widgets JavaScript library is either not installed or\n",
       "  not enabled. See the <a href=\"https://ipywidgets.readthedocs.io/en/stable/user_install.html\">Jupyter\n",
       "  Widgets Documentation</a> for setup instructions.\n",
       "</p>\n",
       "<p>\n",
       "  If you're reading this message in another frontend (for example, a static\n",
       "  rendering on GitHub or <a href=\"https://nbviewer.jupyter.org/\">NBViewer</a>),\n",
       "  it may mean that your frontend doesn't currently support widgets.\n",
       "</p>\n"
      ],
      "text/plain": [
       "interactive(children=(SelectionRangeSlider(description='Dates', index=(0, 35), layout=Layout(width='500px'), options=((' 15 Nov 2016 ', Timestamp('2016-11-15 10:56:48', freq='D')), (' 16 Nov 2016 ', Timestamp('2016-11-16 10:56:48', freq='D')), (' 17 Nov 2016 ', Timestamp('2016-11-17 10:56:48', freq='D')), (' 18 Nov 2016 ', Timestamp('2016-11-18 10:56:48', freq='D')), (' 19 Nov 2016 ', Timestamp('2016-11-19 10:56:48', freq='D')), (' 20 Nov 2016 ', Timestamp('2016-11-20 10:56:48', freq='D')), (' 21 Nov 2016 ', Timestamp('2016-11-21 10:56:48', freq='D')), (' 22 Nov 2016 ', Timestamp('2016-11-22 10:56:48', freq='D')), (' 23 Nov 2016 ', Timestamp('2016-11-23 10:56:48', freq='D')), (' 24 Nov 2016 ', Timestamp('2016-11-24 10:56:48', freq='D')), (' 25 Nov 2016 ', Timestamp('2016-11-25 10:56:48', freq='D')), (' 26 Nov 2016 ', Timestamp('2016-11-26 10:56:48', freq='D')), (' 27 Nov 2016 ', Timestamp('2016-11-27 10:56:48', freq='D')), (' 28 Nov 2016 ', Timestamp('2016-11-28 10:56:48', freq='D')), (' 29 Nov 2016 ', Timestamp('2016-11-29 10:56:48', freq='D')), (' 30 Nov 2016 ', Timestamp('2016-11-30 10:56:48', freq='D')), (' 01 Dec 2016 ', Timestamp('2016-12-01 10:56:48', freq='D')), (' 02 Dec 2016 ', Timestamp('2016-12-02 10:56:48', freq='D')), (' 03 Dec 2016 ', Timestamp('2016-12-03 10:56:48', freq='D')), (' 04 Dec 2016 ', Timestamp('2016-12-04 10:56:48', freq='D')), (' 05 Dec 2016 ', Timestamp('2016-12-05 10:56:48', freq='D')), (' 06 Dec 2016 ', Timestamp('2016-12-06 10:56:48', freq='D')), (' 07 Dec 2016 ', Timestamp('2016-12-07 10:56:48', freq='D')), (' 08 Dec 2016 ', Timestamp('2016-12-08 10:56:48', freq='D')), (' 09 Dec 2016 ', Timestamp('2016-12-09 10:56:48', freq='D')), (' 10 Dec 2016 ', Timestamp('2016-12-10 10:56:48', freq='D')), (' 11 Dec 2016 ', Timestamp('2016-12-11 10:56:48', freq='D')), (' 12 Dec 2016 ', Timestamp('2016-12-12 10:56:48', freq='D')), (' 13 Dec 2016 ', Timestamp('2016-12-13 10:56:48', freq='D')), (' 14 Dec 2016 ', Timestamp('2016-12-14 10:56:48', freq='D')), (' 15 Dec 2016 ', Timestamp('2016-12-15 10:56:48', freq='D')), (' 16 Dec 2016 ', Timestamp('2016-12-16 10:56:48', freq='D')), (' 17 Dec 2016 ', Timestamp('2016-12-17 10:56:48', freq='D')), (' 18 Dec 2016 ', Timestamp('2016-12-18 10:56:48', freq='D')), (' 19 Dec 2016 ', Timestamp('2016-12-19 10:56:48', freq='D')), (' 20 Dec 2016 ', Timestamp('2016-12-20 10:56:48', freq='D'))), value=(Timestamp('2016-11-15 10:56:48', freq='D'), Timestamp('2016-12-20 10:56:48', freq='D'))), Output()), _dom_classes=('widget-interact',))"
      ]
     },
     "metadata": {},
     "output_type": "display_data"
    }
   ],
   "source": [
    "#Some very basic visualizations\n",
    "import ipywidgets as widgets\n",
    "\n",
    "#quick overview of the number of sads/happies over time. You can notice a trend. \n",
    "start_date = df[\"Date Submitted\"].min()\n",
    "end_date = df[\"Date Submitted\"].max()\n",
    "display(\"Most Recent Date: \", end_date)\n",
    "\n",
    "dates = pd.date_range(start_date, end_date, freq='D')\n",
    "\n",
    "options = [(date.strftime(' %d %b %Y '), date) for date in dates]\n",
    "index = (0, len(options)-1)\n",
    "\n",
    "slide = widgets.SelectionRangeSlider(\n",
    "    options=options,\n",
    "    index=index,\n",
    "    description='Dates',\n",
    "    orientation='horizontal',\n",
    "    layout={'width': '500px'}\n",
    ")\n",
    "#Trends over time. Look at binary sentiment for a period of time, most -ve comments at that time\n",
    "def binary_sentiment(slider):\n",
    "    subset = df[(df['Date Submitted'] >= slider[0]) & (df['Date Submitted'] <= slider[1])]\n",
    "    display(\"Happy-Sadness counts in this time interval: \", subset[\"Binary Sentiment\"].value_counts())\n",
    "        \n",
    "widgets.interactive(binary_sentiment,slider=slide)\n",
    "# I noticed a bunch of new feedback after December 19th 2016.\n",
    "# This could be because of Mozilla's latest release of V50.1 earlier in the week.\n",
    "# Probably introduced some breaking changes. "
   ]
  },
  {
   "cell_type": "code",
   "execution_count": 7,
   "metadata": {},
   "outputs": [
    {
     "data": {
      "application/vnd.jupyter.widget-view+json": {
       "model_id": "1c548d1f715f4aa5bf14bde57abfd44e",
       "version_major": 2,
       "version_minor": 0
      },
      "text/html": [
       "<p>Failed to display Jupyter Widget of type <code>interactive</code>.</p>\n",
       "<p>\n",
       "  If you're reading this message in the Jupyter Notebook or JupyterLab Notebook, it may mean\n",
       "  that the widgets JavaScript is still loading. If this message persists, it\n",
       "  likely means that the widgets JavaScript library is either not installed or\n",
       "  not enabled. See the <a href=\"https://ipywidgets.readthedocs.io/en/stable/user_install.html\">Jupyter\n",
       "  Widgets Documentation</a> for setup instructions.\n",
       "</p>\n",
       "<p>\n",
       "  If you're reading this message in another frontend (for example, a static\n",
       "  rendering on GitHub or <a href=\"https://nbviewer.jupyter.org/\">NBViewer</a>),\n",
       "  it may mean that your frontend doesn't currently support widgets.\n",
       "</p>\n"
      ],
      "text/plain": [
       "interactive(children=(Dropdown(description='Top Sites', options=('facebook', 'yahoo', 'google', 'twitter', 'netflix'), value='facebook'), Output()), _dom_classes=('widget-interact',))"
      ]
     },
     "metadata": {},
     "output_type": "display_data"
    }
   ],
   "source": [
    "#Select top site, show relevant comments sorted by most negative and most recent\n",
    "topSites = ['facebook', 'yahoo', 'google', 'twitter', 'netflix']\n",
    "tsdrop = widgets.Dropdown(description=\"Top Sites\", options=topSites)\n",
    "def basic_site_analysis(drop):\n",
    "    #display the most negatively associated comments\n",
    "    display(\"MOST NEGATIVE COMMENTS for \" + drop)\n",
    "    subset = df[df['Relevant Site'].str.contains(drop)]\n",
    "    display(subset.nsmallest(3, 'compound'))\n",
    "    display(\"MOST RECENT COMMENTS for \" + drop)\n",
    "    display(subset.nlargest(3, 'Date Submitted'))\n",
    "    \n",
    "\n",
    "\n",
    "#Select issue, \"\" \"\" \n",
    "widgets.interactive(basic_site_analysis,drop=tsdrop)\n",
    "#tsdrop.observe(basic_site_analysis, names='value')"
   ]
  },
  {
   "cell_type": "code",
   "execution_count": null,
   "metadata": {},
   "outputs": [],
   "source": []
  }
 ],
 "metadata": {
  "kernelspec": {
   "display_name": "Python [conda env:Anaconda]",
   "language": "python",
   "name": "conda-env-Anaconda-py"
  },
  "language_info": {
   "codemirror_mode": {
    "name": "ipython",
    "version": 3
   },
   "file_extension": ".py",
   "mimetype": "text/x-python",
   "name": "python",
   "nbconvert_exporter": "python",
   "pygments_lexer": "ipython3",
   "version": "3.6.4"
  }
 },
 "nbformat": 4,
 "nbformat_minor": 2
}
