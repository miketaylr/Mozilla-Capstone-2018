{
 "cells": [
  {
   "cell_type": "markdown",
   "metadata": {},
   "source": [
    "Preliminary Data Analysis of Mozilla SurveyGizmo Feedback Data\n",
    "\n",
    "Note: must also install vaderSentiment (pip install vaderSentiment), and assumes that files 'Top Sites for Report Analysis.csv' and '20180912113810-SurveyExport.csv' are located in the same directory as the file"
   ]
  },
  {
   "cell_type": "code",
   "execution_count": 15,
   "metadata": {},
   "outputs": [],
   "source": [
    "import pandas as pd\n",
    "import re"
   ]
  },
  {
   "cell_type": "code",
   "execution_count": 32,
   "metadata": {
    "scrolled": true
   },
   "outputs": [],
   "source": [
    "# for columns A and B in the top 100, get strings in cells, comma, split by comma, \n",
    "#then save and check if data contains these values\n",
    "sites = pd.read_csv('C:/Users/amritpd/Downloads/Top Sites for Report Analysis.csv', usecols=['Domains','Brand'])\n",
    "#, skiprows = 50, nrows = 25\n",
    "#display(sites)\n",
    "siteList = list(sites.values.flatten())\n",
    "\n",
    "#remove commas ('salesforce.com, force.com')\n",
    "for site in siteList:\n",
    "    if ',' in site:\n",
    "        siteList += site.split(',')\n",
    "        \n",
    "siteList = [site.strip('.*') for site in list(filter(lambda site: ',' not in site, siteList))]\n",
    "#print(siteList)"
   ]
  },
  {
   "cell_type": "code",
   "execution_count": 41,
   "metadata": {
    "scrolled": false
   },
   "outputs": [
    {
     "data": {
      "text/html": [
       "<div>\n",
       "<style scoped>\n",
       "    .dataframe tbody tr th:only-of-type {\n",
       "        vertical-align: middle;\n",
       "    }\n",
       "\n",
       "    .dataframe tbody tr th {\n",
       "        vertical-align: top;\n",
       "    }\n",
       "\n",
       "    .dataframe thead th {\n",
       "        text-align: right;\n",
       "    }\n",
       "</style>\n",
       "<table border=\"1\" class=\"dataframe\">\n",
       "  <thead>\n",
       "    <tr style=\"text-align: right;\">\n",
       "      <th></th>\n",
       "      <th>Response ID</th>\n",
       "      <th>Time Started</th>\n",
       "      <th>Date Submitted</th>\n",
       "      <th>Language</th>\n",
       "      <th>Referer</th>\n",
       "      <th>Extended Referer</th>\n",
       "      <th>User Agent</th>\n",
       "      <th>Extended User Agent</th>\n",
       "      <th>Longitude</th>\n",
       "      <th>Latitude</th>\n",
       "      <th>Country</th>\n",
       "      <th>City</th>\n",
       "      <th>State/Region</th>\n",
       "      <th>Postal</th>\n",
       "      <th>Binary Sentiment</th>\n",
       "      <th>OS</th>\n",
       "      <th>Positive Feedback</th>\n",
       "      <th>Negative Feedback</th>\n",
       "      <th>Relevant Site</th>\n",
       "    </tr>\n",
       "  </thead>\n",
       "  <tbody>\n",
       "    <tr>\n",
       "      <th>0</th>\n",
       "      <td>124</td>\n",
       "      <td>Nov 15, 2016 10:55:50 am</td>\n",
       "      <td>Nov 15, 2016 10:56:48 am</td>\n",
       "      <td>English</td>\n",
       "      <td>NaN</td>\n",
       "      <td>NaN</td>\n",
       "      <td>Mozilla/5.0 (Android 7.0; Mobile; rv:49.0) Gec...</td>\n",
       "      <td>Mozilla/5.0 (Android 7.0; Mobile; rv:49.0) Gec...</td>\n",
       "      <td>-122.682701</td>\n",
       "      <td>45.533199</td>\n",
       "      <td>United States</td>\n",
       "      <td>Portland</td>\n",
       "      <td>OR</td>\n",
       "      <td>97209</td>\n",
       "      <td>Sad</td>\n",
       "      <td>NaN</td>\n",
       "      <td>Askd</td>\n",
       "      <td>NaN</td>\n",
       "      <td>NaN</td>\n",
       "    </tr>\n",
       "    <tr>\n",
       "      <th>1</th>\n",
       "      <td>128</td>\n",
       "      <td>Nov 23, 2016 3:04:02 pm</td>\n",
       "      <td>Nov 23, 2016 3:12:29 pm</td>\n",
       "      <td>English</td>\n",
       "      <td>NaN</td>\n",
       "      <td>NaN</td>\n",
       "      <td>Mozilla/5.0 (Macintosh; Intel Mac OS X 10.11; ...</td>\n",
       "      <td>Mozilla/5.0 (Macintosh; Intel Mac OS X 10.11; ...</td>\n",
       "      <td>-122.643097</td>\n",
       "      <td>45.544201</td>\n",
       "      <td>United States</td>\n",
       "      <td>Portland</td>\n",
       "      <td>OR</td>\n",
       "      <td>97212</td>\n",
       "      <td>Sad</td>\n",
       "      <td>NaN</td>\n",
       "      <td>asdfasdf</td>\n",
       "      <td>NaN</td>\n",
       "      <td>NaN</td>\n",
       "    </tr>\n",
       "    <tr>\n",
       "      <th>2</th>\n",
       "      <td>129</td>\n",
       "      <td>Nov 25, 2016 1:13:11 pm</td>\n",
       "      <td>Nov 25, 2016 1:20:59 pm</td>\n",
       "      <td>English</td>\n",
       "      <td>NaN</td>\n",
       "      <td>NaN</td>\n",
       "      <td>Mozilla/5.0 (Macintosh; Intel Mac OS X 10.11; ...</td>\n",
       "      <td>Mozilla/5.0 (Macintosh; Intel Mac OS X 10.11; ...</td>\n",
       "      <td>-122.682701</td>\n",
       "      <td>45.533199</td>\n",
       "      <td>United States</td>\n",
       "      <td>Portland</td>\n",
       "      <td>OR</td>\n",
       "      <td>97209</td>\n",
       "      <td>Sad</td>\n",
       "      <td>NaN</td>\n",
       "      <td>asfasdfas</td>\n",
       "      <td>NaN</td>\n",
       "      <td>NaN</td>\n",
       "    </tr>\n",
       "    <tr>\n",
       "      <th>3</th>\n",
       "      <td>131</td>\n",
       "      <td>Nov 25, 2016 1:26:58 pm</td>\n",
       "      <td>Nov 25, 2016 1:30:52 pm</td>\n",
       "      <td>English</td>\n",
       "      <td>NaN</td>\n",
       "      <td>NaN</td>\n",
       "      <td>Mozilla/5.0 (Macintosh; Intel Mac OS X 10.11; ...</td>\n",
       "      <td>Mozilla/5.0 (Macintosh; Intel Mac OS X 10.11; ...</td>\n",
       "      <td>-122.682701</td>\n",
       "      <td>45.533199</td>\n",
       "      <td>United States</td>\n",
       "      <td>Portland</td>\n",
       "      <td>OR</td>\n",
       "      <td>97209</td>\n",
       "      <td>Sad</td>\n",
       "      <td>NaN</td>\n",
       "      <td>asdfasd</td>\n",
       "      <td>NaN</td>\n",
       "      <td>NaN</td>\n",
       "    </tr>\n",
       "    <tr>\n",
       "      <th>4</th>\n",
       "      <td>133</td>\n",
       "      <td>Nov 25, 2016 1:28:57 pm</td>\n",
       "      <td>Nov 25, 2016 1:29:58 pm</td>\n",
       "      <td>English</td>\n",
       "      <td>NaN</td>\n",
       "      <td>NaN</td>\n",
       "      <td>Mozilla/5.0 (Android 7.0; Mobile; rv:50.0) Gec...</td>\n",
       "      <td>Mozilla/5.0 (Android 7.0; Mobile; rv:50.0) Gec...</td>\n",
       "      <td>-122.682701</td>\n",
       "      <td>45.533199</td>\n",
       "      <td>United States</td>\n",
       "      <td>Portland</td>\n",
       "      <td>OR</td>\n",
       "      <td>97209</td>\n",
       "      <td>Happy</td>\n",
       "      <td>NaN</td>\n",
       "      <td>Asdf</td>\n",
       "      <td>NaN</td>\n",
       "      <td>NaN</td>\n",
       "    </tr>\n",
       "  </tbody>\n",
       "</table>\n",
       "</div>"
      ],
      "text/plain": [
       "   Response ID              Time Started            Date Submitted Language  \\\n",
       "0          124  Nov 15, 2016 10:55:50 am  Nov 15, 2016 10:56:48 am  English   \n",
       "1          128   Nov 23, 2016 3:04:02 pm   Nov 23, 2016 3:12:29 pm  English   \n",
       "2          129   Nov 25, 2016 1:13:11 pm   Nov 25, 2016 1:20:59 pm  English   \n",
       "3          131   Nov 25, 2016 1:26:58 pm   Nov 25, 2016 1:30:52 pm  English   \n",
       "4          133   Nov 25, 2016 1:28:57 pm   Nov 25, 2016 1:29:58 pm  English   \n",
       "\n",
       "  Referer Extended Referer                                         User Agent  \\\n",
       "0     NaN              NaN  Mozilla/5.0 (Android 7.0; Mobile; rv:49.0) Gec...   \n",
       "1     NaN              NaN  Mozilla/5.0 (Macintosh; Intel Mac OS X 10.11; ...   \n",
       "2     NaN              NaN  Mozilla/5.0 (Macintosh; Intel Mac OS X 10.11; ...   \n",
       "3     NaN              NaN  Mozilla/5.0 (Macintosh; Intel Mac OS X 10.11; ...   \n",
       "4     NaN              NaN  Mozilla/5.0 (Android 7.0; Mobile; rv:50.0) Gec...   \n",
       "\n",
       "                                 Extended User Agent   Longitude   Latitude  \\\n",
       "0  Mozilla/5.0 (Android 7.0; Mobile; rv:49.0) Gec... -122.682701  45.533199   \n",
       "1  Mozilla/5.0 (Macintosh; Intel Mac OS X 10.11; ... -122.643097  45.544201   \n",
       "2  Mozilla/5.0 (Macintosh; Intel Mac OS X 10.11; ... -122.682701  45.533199   \n",
       "3  Mozilla/5.0 (Macintosh; Intel Mac OS X 10.11; ... -122.682701  45.533199   \n",
       "4  Mozilla/5.0 (Android 7.0; Mobile; rv:50.0) Gec... -122.682701  45.533199   \n",
       "\n",
       "         Country      City State/Region Postal Binary Sentiment  OS  \\\n",
       "0  United States  Portland           OR  97209              Sad NaN   \n",
       "1  United States  Portland           OR  97212              Sad NaN   \n",
       "2  United States  Portland           OR  97209              Sad NaN   \n",
       "3  United States  Portland           OR  97209              Sad NaN   \n",
       "4  United States  Portland           OR  97209            Happy NaN   \n",
       "\n",
       "  Positive Feedback Negative Feedback Relevant Site  \n",
       "0              Askd               NaN           NaN  \n",
       "1          asdfasdf               NaN           NaN  \n",
       "2         asfasdfas               NaN           NaN  \n",
       "3           asdfasd               NaN           NaN  \n",
       "4              Asdf               NaN           NaN  "
      ]
     },
     "metadata": {},
     "output_type": "display_data"
    },
    {
     "data": {
      "text/plain": [
       "(500, 19)"
      ]
     },
     "execution_count": 41,
     "metadata": {},
     "output_type": "execute_result"
    }
   ],
   "source": [
    "fields = ['KI', 'KN', 'KP']\n",
    "#read in actual survey data. Only want certain columns\n",
    "survey_cols = [\"Response ID\",\"Time Started\",\"Date Submitted\",\"Language\",\"Referer\",\"Extended Referer\",\"User Agent\",\"Extended User Agent\",\"Longitude\",\"Latitude\",\"Country\",\"City\",\"State/Region\",\"Postal\",\"How does Firefox make you feel?\",\"OS\",\"To help us understand your input, we need more information. Please describe what you like. The content of your feedback will be public, so please be sure not to include personal information such as email address, passwords or phone number.\",\"To help us understand your input, we need more information. Please describe your problem below and be as specific as you can. The content of your feedback will be public, so please be sure not to include personal information such as email address, passwords or phone number.\",\"If your feedback is related to a website, you can include it here:\"]\n",
    "df = pd.read_csv(\"C:/Users/amritpd/Downloads/20180928025007-SurveyExport.csv\", encoding = \"ISO-8859-1\", nrows=500, usecols=survey_cols)\n",
    "#rename some long column names\n",
    "df.rename(columns={ survey_cols[14]: 'Binary Sentiment', survey_cols[16]: 'Positive Feedback', survey_cols[17]: 'Negative Feedback', survey_cols[18]: 'Relevant Site'}, inplace=True)\n",
    "display(df.head(5))\n",
    "df.shape\n",
    "# df.columns = ['Language', 'Sentiment', 'Positive Feedback', 'Negative Feedback']\n",
    "# df = df.loc[df['Language'] == 'English']\n",
    "# if df.empty:\n",
    "#     print('DataFrame is empty!')\n",
    "# else:\n",
    "#     print('Not empty!')\n",
    "    \n",
    "# df.describe()\n",
    "# df.head(20)"
   ]
  },
  {
   "cell_type": "code",
   "execution_count": null,
   "metadata": {},
   "outputs": [],
   "source": [
    "# rows that contain mention of anything in siteList\n",
    "# BROKEN - currently only filters on the first column\n",
    "df.drop('Language', axis = 1)\n",
    "refined = df[ (df['Negative Feedback'].str.contains('|'.join(siteList))) | (df['Positive Feedback'].str.contains('|'.join(siteList))) ]"
   ]
  },
  {
   "cell_type": "code",
   "execution_count": null,
   "metadata": {},
   "outputs": [],
   "source": [
    "refined.describe()"
   ]
  },
  {
   "cell_type": "code",
   "execution_count": null,
   "metadata": {},
   "outputs": [],
   "source": [
    "from vaderSentiment.vaderSentiment import SentimentIntensityAnalyzer\n",
    "\n",
    "analyser = SentimentIntensityAnalyzer()\n",
    "\n",
    "def print_sentiment_scores(sentence):\n",
    "    score = analyser.polarity_scores(sentence)\n",
    "    return score"
   ]
  },
  {
   "cell_type": "code",
   "execution_count": null,
   "metadata": {},
   "outputs": [],
   "source": [
    "nltk_results = [print_sentiment_scores(string) for string in refined['Negative Feedback']]\n",
    "#print(nltk_results)\n",
    "\n",
    "nltk_df = pd.DataFrame(nltk_results, dtype=\"str\")\n",
    "    \n",
    "results = refined.join(nltk_df)\n",
    "results.describe()\n",
    "results.head(20)"
   ]
  },
  {
   "cell_type": "code",
   "execution_count": null,
   "metadata": {},
   "outputs": [],
   "source": [
    "results.describe()"
   ]
  },
  {
   "cell_type": "code",
   "execution_count": null,
   "metadata": {},
   "outputs": [],
   "source": [
    "#histColumn = results['compound'].astype('float')\n",
    "\n",
    "#histColumn.hist(column = \"compound\")"
   ]
  },
  {
   "cell_type": "code",
   "execution_count": null,
   "metadata": {},
   "outputs": [],
   "source": [
    "refined.to_csv('refined.csv')\n",
    "nltk_df.to_csv('nltk_df.csv')\n",
    "results.to_csv('results.csv')"
   ]
  }
 ],
 "metadata": {
  "kernelspec": {
   "display_name": "Python [conda env:Anaconda]",
   "language": "python",
   "name": "conda-env-Anaconda-py"
  },
  "language_info": {
   "codemirror_mode": {
    "name": "ipython",
    "version": 3
   },
   "file_extension": ".py",
   "mimetype": "text/x-python",
   "name": "python",
   "nbconvert_exporter": "python",
   "pygments_lexer": "ipython3",
   "version": "3.6.4"
  }
 },
 "nbformat": 4,
 "nbformat_minor": 2
}
